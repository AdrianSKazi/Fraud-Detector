{
  "nbformat": 4,
  "nbformat_minor": 0,
  "metadata": {
    "colab": {
      "name": "Fraud Detector (rave codeplay).ipynb",
      "provenance": [],
      "collapsed_sections": [],
      "toc_visible": true
    },
    "kernelspec": {
      "name": "python3",
      "display_name": "Python 3"
    }
  },
  "cells": [
    {
      "cell_type": "code",
      "metadata": {
        "id": "63a6HCPeaNMt"
      },
      "source": [
        "import pandas as pd\n",
        "import seaborn as sns\n",
        "import matplotlib.pyplot as plt\n",
        "%matplotlib inline\n",
        "import numpy as np"
      ],
      "execution_count": null,
      "outputs": []
    },
    {
      "cell_type": "markdown",
      "metadata": {
        "id": "ZpCBZr-Pyth1"
      },
      "source": [
        "#Data import"
      ]
    },
    {
      "cell_type": "code",
      "metadata": {
        "id": "ImH2NBjmyvnE"
      },
      "source": [
        "data = pd.read_excel('dane5000.xlsx')"
      ],
      "execution_count": null,
      "outputs": []
    },
    {
      "cell_type": "code",
      "metadata": {
        "id": "jXXKM8Ww3ZNn",
        "outputId": "0c988920-7dea-4cd8-f804-8659c8ed9628",
        "colab": {
          "base_uri": "https://localhost:8080/",
          "height": 439
        }
      },
      "source": [
        "data"
      ],
      "execution_count": null,
      "outputs": [
        {
          "output_type": "execute_result",
          "data": {
            "text/html": [
              "<div>\n",
              "<style scoped>\n",
              "    .dataframe tbody tr th:only-of-type {\n",
              "        vertical-align: middle;\n",
              "    }\n",
              "\n",
              "    .dataframe tbody tr th {\n",
              "        vertical-align: top;\n",
              "    }\n",
              "\n",
              "    .dataframe thead th {\n",
              "        text-align: right;\n",
              "    }\n",
              "</style>\n",
              "<table border=\"1\" class=\"dataframe\">\n",
              "  <thead>\n",
              "    <tr style=\"text-align: right;\">\n",
              "      <th></th>\n",
              "      <th>DATA_OPERACJI</th>\n",
              "      <th>ID_UMOWY</th>\n",
              "      <th>KANAL</th>\n",
              "      <th>KOD_OPERACJI</th>\n",
              "      <th>KWOTA_OBCIAZENIA</th>\n",
              "      <th>KWOTA_UZNANIA</th>\n",
              "      <th>TYTUL</th>\n",
              "      <th>BENEFICJENT</th>\n",
              "      <th>ZLECENIODAWCA</th>\n",
              "      <th>KURS_OBCIAZENIA</th>\n",
              "      <th>KURS_UZNANIA</th>\n",
              "      <th>KATEGORIA_WG_TYTULU</th>\n",
              "      <th>NADKATEGORIA</th>\n",
              "    </tr>\n",
              "  </thead>\n",
              "  <tbody>\n",
              "    <tr>\n",
              "      <th>0</th>\n",
              "      <td>15/02/02</td>\n",
              "      <td>112702005</td>\n",
              "      <td>NaN</td>\n",
              "      <td>1002</td>\n",
              "      <td>0.00</td>\n",
              "      <td>200.00</td>\n",
              "      <td>ttt</td>\n",
              "      <td>bbb</td>\n",
              "      <td>zzz</td>\n",
              "      <td>1</td>\n",
              "      <td>0</td>\n",
              "      <td>NaN</td>\n",
              "      <td>NaN</td>\n",
              "    </tr>\n",
              "    <tr>\n",
              "      <th>1</th>\n",
              "      <td>15/04/24</td>\n",
              "      <td>769072013</td>\n",
              "      <td>NaN</td>\n",
              "      <td>1001</td>\n",
              "      <td>0.00</td>\n",
              "      <td>40.00</td>\n",
              "      <td>ttt</td>\n",
              "      <td>bbb</td>\n",
              "      <td>zzz</td>\n",
              "      <td>1</td>\n",
              "      <td>0</td>\n",
              "      <td>WPŁATA_WLASNA</td>\n",
              "      <td>NaN</td>\n",
              "    </tr>\n",
              "    <tr>\n",
              "      <th>2</th>\n",
              "      <td>15/05/29</td>\n",
              "      <td>758012013</td>\n",
              "      <td>NaN</td>\n",
              "      <td>1004</td>\n",
              "      <td>0.00</td>\n",
              "      <td>1257.71</td>\n",
              "      <td>ttt</td>\n",
              "      <td>bbb</td>\n",
              "      <td>zzz</td>\n",
              "      <td>1</td>\n",
              "      <td>0</td>\n",
              "      <td>POBORY</td>\n",
              "      <td>POBORY</td>\n",
              "    </tr>\n",
              "    <tr>\n",
              "      <th>3</th>\n",
              "      <td>15/07/08</td>\n",
              "      <td>521042011</td>\n",
              "      <td>WWS</td>\n",
              "      <td>1050</td>\n",
              "      <td>1256.83</td>\n",
              "      <td>0.00</td>\n",
              "      <td>ttt</td>\n",
              "      <td>bbb</td>\n",
              "      <td>zzz</td>\n",
              "      <td>1</td>\n",
              "      <td>0</td>\n",
              "      <td>NaN</td>\n",
              "      <td>NaN</td>\n",
              "    </tr>\n",
              "    <tr>\n",
              "      <th>4</th>\n",
              "      <td>15/07/09</td>\n",
              "      <td>240882006</td>\n",
              "      <td>NaN</td>\n",
              "      <td>1004</td>\n",
              "      <td>0.00</td>\n",
              "      <td>989.56</td>\n",
              "      <td>ttt</td>\n",
              "      <td>bbb</td>\n",
              "      <td>zzz</td>\n",
              "      <td>1</td>\n",
              "      <td>0</td>\n",
              "      <td>POBORY</td>\n",
              "      <td>POBORY</td>\n",
              "    </tr>\n",
              "    <tr>\n",
              "      <th>...</th>\n",
              "      <td>...</td>\n",
              "      <td>...</td>\n",
              "      <td>...</td>\n",
              "      <td>...</td>\n",
              "      <td>...</td>\n",
              "      <td>...</td>\n",
              "      <td>...</td>\n",
              "      <td>...</td>\n",
              "      <td>...</td>\n",
              "      <td>...</td>\n",
              "      <td>...</td>\n",
              "      <td>...</td>\n",
              "      <td>...</td>\n",
              "    </tr>\n",
              "    <tr>\n",
              "      <th>4995</th>\n",
              "      <td>15/05/08</td>\n",
              "      <td>688462013</td>\n",
              "      <td>NaN</td>\n",
              "      <td>9150</td>\n",
              "      <td>0.50</td>\n",
              "      <td>0.00</td>\n",
              "      <td>ttt</td>\n",
              "      <td>bbb</td>\n",
              "      <td>zzz</td>\n",
              "      <td>1</td>\n",
              "      <td>0</td>\n",
              "      <td>PROWIZJA</td>\n",
              "      <td>NaN</td>\n",
              "    </tr>\n",
              "    <tr>\n",
              "      <th>4996</th>\n",
              "      <td>15/05/13</td>\n",
              "      <td>57252005</td>\n",
              "      <td>CUI</td>\n",
              "      <td>1052</td>\n",
              "      <td>287.00</td>\n",
              "      <td>0.00</td>\n",
              "      <td>ttt</td>\n",
              "      <td>bbb</td>\n",
              "      <td>zzz</td>\n",
              "      <td>1</td>\n",
              "      <td>0</td>\n",
              "      <td>POBORY</td>\n",
              "      <td>POBORY</td>\n",
              "    </tr>\n",
              "    <tr>\n",
              "      <th>4997</th>\n",
              "      <td>15/05/26</td>\n",
              "      <td>286032008</td>\n",
              "      <td>NaN</td>\n",
              "      <td>1041</td>\n",
              "      <td>170.00</td>\n",
              "      <td>0.00</td>\n",
              "      <td>ttt</td>\n",
              "      <td>bbb</td>\n",
              "      <td>zzz</td>\n",
              "      <td>1</td>\n",
              "      <td>0</td>\n",
              "      <td>WYPŁATA_GOTÓWKOWA</td>\n",
              "      <td>NaN</td>\n",
              "    </tr>\n",
              "    <tr>\n",
              "      <th>4998</th>\n",
              "      <td>15/06/26</td>\n",
              "      <td>110642005</td>\n",
              "      <td>NaN</td>\n",
              "      <td>1042</td>\n",
              "      <td>86.35</td>\n",
              "      <td>0.00</td>\n",
              "      <td>ttt</td>\n",
              "      <td>bbb</td>\n",
              "      <td>zzz</td>\n",
              "      <td>1</td>\n",
              "      <td>0</td>\n",
              "      <td>CZYNSZ</td>\n",
              "      <td>RACHUNKI</td>\n",
              "    </tr>\n",
              "    <tr>\n",
              "      <th>4999</th>\n",
              "      <td>15/08/05</td>\n",
              "      <td>628592012</td>\n",
              "      <td>WWS</td>\n",
              "      <td>1052</td>\n",
              "      <td>327.49</td>\n",
              "      <td>0.00</td>\n",
              "      <td>ttt</td>\n",
              "      <td>bbb</td>\n",
              "      <td>zzz</td>\n",
              "      <td>1</td>\n",
              "      <td>0</td>\n",
              "      <td>SAMORZĄD</td>\n",
              "      <td>NaN</td>\n",
              "    </tr>\n",
              "  </tbody>\n",
              "</table>\n",
              "<p>5000 rows × 13 columns</p>\n",
              "</div>"
            ],
            "text/plain": [
              "     DATA_OPERACJI   ID_UMOWY  ... KATEGORIA_WG_TYTULU NADKATEGORIA\n",
              "0         15/02/02  112702005  ...                 NaN          NaN\n",
              "1         15/04/24  769072013  ...       WPŁATA_WLASNA          NaN\n",
              "2         15/05/29  758012013  ...              POBORY       POBORY\n",
              "3         15/07/08  521042011  ...                 NaN          NaN\n",
              "4         15/07/09  240882006  ...              POBORY       POBORY\n",
              "...            ...        ...  ...                 ...          ...\n",
              "4995      15/05/08  688462013  ...            PROWIZJA          NaN\n",
              "4996      15/05/13   57252005  ...              POBORY       POBORY\n",
              "4997      15/05/26  286032008  ...   WYPŁATA_GOTÓWKOWA          NaN\n",
              "4998      15/06/26  110642005  ...              CZYNSZ     RACHUNKI\n",
              "4999      15/08/05  628592012  ...            SAMORZĄD          NaN\n",
              "\n",
              "[5000 rows x 13 columns]"
            ]
          },
          "metadata": {
            "tags": []
          },
          "execution_count": 40
        }
      ]
    },
    {
      "cell_type": "markdown",
      "metadata": {
        "id": "TLhS2QVnB7fG"
      },
      "source": [
        ""
      ]
    },
    {
      "cell_type": "markdown",
      "metadata": {
        "id": "inwmTmrqev1c"
      },
      "source": [
        "# Benfrod"
      ]
    },
    {
      "cell_type": "markdown",
      "metadata": {
        "id": "rSwdgxzy9nmn"
      },
      "source": [
        "##Data preprocessing"
      ]
    },
    {
      "cell_type": "code",
      "metadata": {
        "id": "Q3Teq63T7-ds",
        "outputId": "26912858-d570-490a-af18-abc7eb69f7a0",
        "colab": {
          "base_uri": "https://localhost:8080/",
          "height": 51
        }
      },
      "source": [
        "IDs = data['ID_UMOWY'].unique()\n",
        "IDs"
      ],
      "execution_count": null,
      "outputs": [
        {
          "output_type": "execute_result",
          "data": {
            "text/plain": [
              "array([112702005, 769072013, 758012013, ..., 924112015, 195152005,\n",
              "       688462013])"
            ]
          },
          "metadata": {
            "tags": []
          },
          "execution_count": 48
        }
      ]
    },
    {
      "cell_type": "code",
      "metadata": {
        "id": "2CUI1b5K8Zf5",
        "outputId": "80c3e223-42b9-43c7-b4d5-8856f2804848",
        "colab": {
          "base_uri": "https://localhost:8080/",
          "height": 34
        }
      },
      "source": [
        "data['ID_UMOWY'].nunique()"
      ],
      "execution_count": null,
      "outputs": [
        {
          "output_type": "execute_result",
          "data": {
            "text/plain": [
              "2754"
            ]
          },
          "metadata": {
            "tags": []
          },
          "execution_count": 52
        }
      ]
    },
    {
      "cell_type": "markdown",
      "metadata": {
        "id": "ksvaGNZZ81K0"
      },
      "source": [
        "Mamy zbyt mało danych dotyczących jednego klienta, przypada średnio niecałe 2 transkacje na 1 klienta."
      ]
    },
    {
      "cell_type": "markdown",
      "metadata": {
        "id": "BuNClB-Y8rcz"
      },
      "source": [
        "Na potrzeby projektu tworzę 5 unikalnych ID 1,2,3,4,5."
      ]
    },
    {
      "cell_type": "code",
      "metadata": {
        "id": "-D3YdYDc8ztH",
        "outputId": "28beb2e5-0922-45c0-a95e-063953154a2e",
        "colab": {
          "base_uri": "https://localhost:8080/",
          "height": 439
        }
      },
      "source": [
        "import random\n",
        "data['ID_UMOWY'] = data['ID_UMOWY'].apply(lambda x: random.randint(1,5))\n",
        "data"
      ],
      "execution_count": null,
      "outputs": [
        {
          "output_type": "execute_result",
          "data": {
            "text/html": [
              "<div>\n",
              "<style scoped>\n",
              "    .dataframe tbody tr th:only-of-type {\n",
              "        vertical-align: middle;\n",
              "    }\n",
              "\n",
              "    .dataframe tbody tr th {\n",
              "        vertical-align: top;\n",
              "    }\n",
              "\n",
              "    .dataframe thead th {\n",
              "        text-align: right;\n",
              "    }\n",
              "</style>\n",
              "<table border=\"1\" class=\"dataframe\">\n",
              "  <thead>\n",
              "    <tr style=\"text-align: right;\">\n",
              "      <th></th>\n",
              "      <th>DATA_OPERACJI</th>\n",
              "      <th>ID_UMOWY</th>\n",
              "      <th>KANAL</th>\n",
              "      <th>KOD_OPERACJI</th>\n",
              "      <th>KWOTA_OBCIAZENIA</th>\n",
              "      <th>KWOTA_UZNANIA</th>\n",
              "      <th>TYTUL</th>\n",
              "      <th>BENEFICJENT</th>\n",
              "      <th>ZLECENIODAWCA</th>\n",
              "      <th>KURS_OBCIAZENIA</th>\n",
              "      <th>KURS_UZNANIA</th>\n",
              "      <th>KATEGORIA_WG_TYTULU</th>\n",
              "      <th>NADKATEGORIA</th>\n",
              "    </tr>\n",
              "  </thead>\n",
              "  <tbody>\n",
              "    <tr>\n",
              "      <th>0</th>\n",
              "      <td>15/02/02</td>\n",
              "      <td>5</td>\n",
              "      <td>NaN</td>\n",
              "      <td>1002</td>\n",
              "      <td>0.00</td>\n",
              "      <td>200.00</td>\n",
              "      <td>ttt</td>\n",
              "      <td>bbb</td>\n",
              "      <td>zzz</td>\n",
              "      <td>1</td>\n",
              "      <td>0</td>\n",
              "      <td>NaN</td>\n",
              "      <td>NaN</td>\n",
              "    </tr>\n",
              "    <tr>\n",
              "      <th>1</th>\n",
              "      <td>15/04/24</td>\n",
              "      <td>4</td>\n",
              "      <td>NaN</td>\n",
              "      <td>1001</td>\n",
              "      <td>0.00</td>\n",
              "      <td>40.00</td>\n",
              "      <td>ttt</td>\n",
              "      <td>bbb</td>\n",
              "      <td>zzz</td>\n",
              "      <td>1</td>\n",
              "      <td>0</td>\n",
              "      <td>WPŁATA_WLASNA</td>\n",
              "      <td>NaN</td>\n",
              "    </tr>\n",
              "    <tr>\n",
              "      <th>2</th>\n",
              "      <td>15/05/29</td>\n",
              "      <td>1</td>\n",
              "      <td>NaN</td>\n",
              "      <td>1004</td>\n",
              "      <td>0.00</td>\n",
              "      <td>1257.71</td>\n",
              "      <td>ttt</td>\n",
              "      <td>bbb</td>\n",
              "      <td>zzz</td>\n",
              "      <td>1</td>\n",
              "      <td>0</td>\n",
              "      <td>POBORY</td>\n",
              "      <td>POBORY</td>\n",
              "    </tr>\n",
              "    <tr>\n",
              "      <th>3</th>\n",
              "      <td>15/07/08</td>\n",
              "      <td>3</td>\n",
              "      <td>WWS</td>\n",
              "      <td>1050</td>\n",
              "      <td>1256.83</td>\n",
              "      <td>0.00</td>\n",
              "      <td>ttt</td>\n",
              "      <td>bbb</td>\n",
              "      <td>zzz</td>\n",
              "      <td>1</td>\n",
              "      <td>0</td>\n",
              "      <td>NaN</td>\n",
              "      <td>NaN</td>\n",
              "    </tr>\n",
              "    <tr>\n",
              "      <th>4</th>\n",
              "      <td>15/07/09</td>\n",
              "      <td>5</td>\n",
              "      <td>NaN</td>\n",
              "      <td>1004</td>\n",
              "      <td>0.00</td>\n",
              "      <td>989.56</td>\n",
              "      <td>ttt</td>\n",
              "      <td>bbb</td>\n",
              "      <td>zzz</td>\n",
              "      <td>1</td>\n",
              "      <td>0</td>\n",
              "      <td>POBORY</td>\n",
              "      <td>POBORY</td>\n",
              "    </tr>\n",
              "    <tr>\n",
              "      <th>...</th>\n",
              "      <td>...</td>\n",
              "      <td>...</td>\n",
              "      <td>...</td>\n",
              "      <td>...</td>\n",
              "      <td>...</td>\n",
              "      <td>...</td>\n",
              "      <td>...</td>\n",
              "      <td>...</td>\n",
              "      <td>...</td>\n",
              "      <td>...</td>\n",
              "      <td>...</td>\n",
              "      <td>...</td>\n",
              "      <td>...</td>\n",
              "    </tr>\n",
              "    <tr>\n",
              "      <th>4995</th>\n",
              "      <td>15/05/08</td>\n",
              "      <td>5</td>\n",
              "      <td>NaN</td>\n",
              "      <td>9150</td>\n",
              "      <td>0.50</td>\n",
              "      <td>0.00</td>\n",
              "      <td>ttt</td>\n",
              "      <td>bbb</td>\n",
              "      <td>zzz</td>\n",
              "      <td>1</td>\n",
              "      <td>0</td>\n",
              "      <td>PROWIZJA</td>\n",
              "      <td>NaN</td>\n",
              "    </tr>\n",
              "    <tr>\n",
              "      <th>4996</th>\n",
              "      <td>15/05/13</td>\n",
              "      <td>2</td>\n",
              "      <td>CUI</td>\n",
              "      <td>1052</td>\n",
              "      <td>287.00</td>\n",
              "      <td>0.00</td>\n",
              "      <td>ttt</td>\n",
              "      <td>bbb</td>\n",
              "      <td>zzz</td>\n",
              "      <td>1</td>\n",
              "      <td>0</td>\n",
              "      <td>POBORY</td>\n",
              "      <td>POBORY</td>\n",
              "    </tr>\n",
              "    <tr>\n",
              "      <th>4997</th>\n",
              "      <td>15/05/26</td>\n",
              "      <td>4</td>\n",
              "      <td>NaN</td>\n",
              "      <td>1041</td>\n",
              "      <td>170.00</td>\n",
              "      <td>0.00</td>\n",
              "      <td>ttt</td>\n",
              "      <td>bbb</td>\n",
              "      <td>zzz</td>\n",
              "      <td>1</td>\n",
              "      <td>0</td>\n",
              "      <td>WYPŁATA_GOTÓWKOWA</td>\n",
              "      <td>NaN</td>\n",
              "    </tr>\n",
              "    <tr>\n",
              "      <th>4998</th>\n",
              "      <td>15/06/26</td>\n",
              "      <td>1</td>\n",
              "      <td>NaN</td>\n",
              "      <td>1042</td>\n",
              "      <td>86.35</td>\n",
              "      <td>0.00</td>\n",
              "      <td>ttt</td>\n",
              "      <td>bbb</td>\n",
              "      <td>zzz</td>\n",
              "      <td>1</td>\n",
              "      <td>0</td>\n",
              "      <td>CZYNSZ</td>\n",
              "      <td>RACHUNKI</td>\n",
              "    </tr>\n",
              "    <tr>\n",
              "      <th>4999</th>\n",
              "      <td>15/08/05</td>\n",
              "      <td>2</td>\n",
              "      <td>WWS</td>\n",
              "      <td>1052</td>\n",
              "      <td>327.49</td>\n",
              "      <td>0.00</td>\n",
              "      <td>ttt</td>\n",
              "      <td>bbb</td>\n",
              "      <td>zzz</td>\n",
              "      <td>1</td>\n",
              "      <td>0</td>\n",
              "      <td>SAMORZĄD</td>\n",
              "      <td>NaN</td>\n",
              "    </tr>\n",
              "  </tbody>\n",
              "</table>\n",
              "<p>5000 rows × 13 columns</p>\n",
              "</div>"
            ],
            "text/plain": [
              "     DATA_OPERACJI  ID_UMOWY  ... KATEGORIA_WG_TYTULU NADKATEGORIA\n",
              "0         15/02/02         5  ...                 NaN          NaN\n",
              "1         15/04/24         4  ...       WPŁATA_WLASNA          NaN\n",
              "2         15/05/29         1  ...              POBORY       POBORY\n",
              "3         15/07/08         3  ...                 NaN          NaN\n",
              "4         15/07/09         5  ...              POBORY       POBORY\n",
              "...            ...       ...  ...                 ...          ...\n",
              "4995      15/05/08         5  ...            PROWIZJA          NaN\n",
              "4996      15/05/13         2  ...              POBORY       POBORY\n",
              "4997      15/05/26         4  ...   WYPŁATA_GOTÓWKOWA          NaN\n",
              "4998      15/06/26         1  ...              CZYNSZ     RACHUNKI\n",
              "4999      15/08/05         2  ...            SAMORZĄD          NaN\n",
              "\n",
              "[5000 rows x 13 columns]"
            ]
          },
          "metadata": {
            "tags": []
          },
          "execution_count": 57
        }
      ]
    },
    {
      "cell_type": "code",
      "metadata": {
        "id": "vsbC59NC9iiK",
        "outputId": "274dce60-8a50-4043-ca56-d5b011b88e24",
        "colab": {
          "base_uri": "https://localhost:8080/",
          "height": 34
        }
      },
      "source": [
        "data['ID_UMOWY'].nunique()"
      ],
      "execution_count": null,
      "outputs": [
        {
          "output_type": "execute_result",
          "data": {
            "text/plain": [
              "5"
            ]
          },
          "metadata": {
            "tags": []
          },
          "execution_count": 58
        }
      ]
    },
    {
      "cell_type": "markdown",
      "metadata": {
        "id": "U3px4C8w9kYI"
      },
      "source": [
        "Teraz mamy 5 unikalnych klientów"
      ]
    },
    {
      "cell_type": "code",
      "metadata": {
        "id": "cxoS1W9u7eZq",
        "outputId": "7a09e2d7-d095-4a71-a67a-863c3b00110c",
        "colab": {
          "base_uri": "https://localhost:8080/",
          "height": 419
        }
      },
      "source": [
        "obciazenie = data[['ID_UMOWY','KWOTA_OBCIAZENIA']]\n",
        "obciazenie         "
      ],
      "execution_count": null,
      "outputs": [
        {
          "output_type": "execute_result",
          "data": {
            "text/html": [
              "<div>\n",
              "<style scoped>\n",
              "    .dataframe tbody tr th:only-of-type {\n",
              "        vertical-align: middle;\n",
              "    }\n",
              "\n",
              "    .dataframe tbody tr th {\n",
              "        vertical-align: top;\n",
              "    }\n",
              "\n",
              "    .dataframe thead th {\n",
              "        text-align: right;\n",
              "    }\n",
              "</style>\n",
              "<table border=\"1\" class=\"dataframe\">\n",
              "  <thead>\n",
              "    <tr style=\"text-align: right;\">\n",
              "      <th></th>\n",
              "      <th>ID_UMOWY</th>\n",
              "      <th>KWOTA_OBCIAZENIA</th>\n",
              "    </tr>\n",
              "  </thead>\n",
              "  <tbody>\n",
              "    <tr>\n",
              "      <th>0</th>\n",
              "      <td>5</td>\n",
              "      <td>0.00</td>\n",
              "    </tr>\n",
              "    <tr>\n",
              "      <th>1</th>\n",
              "      <td>4</td>\n",
              "      <td>0.00</td>\n",
              "    </tr>\n",
              "    <tr>\n",
              "      <th>2</th>\n",
              "      <td>1</td>\n",
              "      <td>0.00</td>\n",
              "    </tr>\n",
              "    <tr>\n",
              "      <th>3</th>\n",
              "      <td>3</td>\n",
              "      <td>1256.83</td>\n",
              "    </tr>\n",
              "    <tr>\n",
              "      <th>4</th>\n",
              "      <td>5</td>\n",
              "      <td>0.00</td>\n",
              "    </tr>\n",
              "    <tr>\n",
              "      <th>...</th>\n",
              "      <td>...</td>\n",
              "      <td>...</td>\n",
              "    </tr>\n",
              "    <tr>\n",
              "      <th>4995</th>\n",
              "      <td>5</td>\n",
              "      <td>0.50</td>\n",
              "    </tr>\n",
              "    <tr>\n",
              "      <th>4996</th>\n",
              "      <td>2</td>\n",
              "      <td>287.00</td>\n",
              "    </tr>\n",
              "    <tr>\n",
              "      <th>4997</th>\n",
              "      <td>4</td>\n",
              "      <td>170.00</td>\n",
              "    </tr>\n",
              "    <tr>\n",
              "      <th>4998</th>\n",
              "      <td>1</td>\n",
              "      <td>86.35</td>\n",
              "    </tr>\n",
              "    <tr>\n",
              "      <th>4999</th>\n",
              "      <td>2</td>\n",
              "      <td>327.49</td>\n",
              "    </tr>\n",
              "  </tbody>\n",
              "</table>\n",
              "<p>5000 rows × 2 columns</p>\n",
              "</div>"
            ],
            "text/plain": [
              "      ID_UMOWY  KWOTA_OBCIAZENIA\n",
              "0            5              0.00\n",
              "1            4              0.00\n",
              "2            1              0.00\n",
              "3            3           1256.83\n",
              "4            5              0.00\n",
              "...        ...               ...\n",
              "4995         5              0.50\n",
              "4996         2            287.00\n",
              "4997         4            170.00\n",
              "4998         1             86.35\n",
              "4999         2            327.49\n",
              "\n",
              "[5000 rows x 2 columns]"
            ]
          },
          "metadata": {
            "tags": []
          },
          "execution_count": 59
        }
      ]
    },
    {
      "cell_type": "markdown",
      "metadata": {
        "id": "EpFu1kWk_DJE"
      },
      "source": [
        "Funkcja zliczająca liczby zgodnie z regułą Benforda"
      ]
    },
    {
      "cell_type": "code",
      "metadata": {
        "id": "DCKlNDp4_J47"
      },
      "source": [
        "def Benford(numbers):\n",
        "    numbers = []\n",
        "\n",
        "\n",
        "    for i in data:\n",
        "        txt = str(i)\n",
        "        numbers.append(txt[0])\n",
        "\n",
        "    print(numbers)\n",
        "\n",
        "    ones = []\n",
        "    twos = []\n",
        "    threes = []\n",
        "    fours = []\n",
        "    fives = []\n",
        "    sixs = []\n",
        "    sevens = []\n",
        "    eights = []\n",
        "    nines = []\n",
        "\n",
        "    numbersInt = []\n",
        "\n",
        "    for i in numbers:\n",
        "        numbersInt.append(int(i))\n",
        "\n",
        "    for i in numbersInt:\n",
        "        if i == 1:\n",
        "            ones.append(i)\n",
        "        elif i == 2:\n",
        "            twos.append(i)\n",
        "        elif i == 3:\n",
        "            threes.append(i)\n",
        "        elif i == 4:\n",
        "            fours.append(i)\n",
        "        elif i == 5:\n",
        "            fives.append(i)\n",
        "        elif i == 6:\n",
        "            sixs.append(i)\n",
        "        elif i == 7:\n",
        "            sevens.append(i)\n",
        "        elif i == 8:\n",
        "            eights.append(i)\n",
        "        elif i == 9:\n",
        "            nines.append(i)\n",
        "\n",
        "    ones_percent = 100*len(ones)/len(numbersInt)\n",
        "    twos_percent = 100*len(twos)/len(numbersInt)\n",
        "    threes_percent = 100*len(threes)/len(numbersInt)\n",
        "    fours_percent = 100*len(fours)/len(numbersInt)\n",
        "    fives_percent = 100*len(fives)/len(numbersInt)\n",
        "    sixes_percent = 100*len(sixs)/len(numbersInt)\n",
        "    sevens_percent = 100*len(sevens)/len(numbersInt)\n",
        "    eights_percent = 100*len(eights)/len(numbersInt)\n",
        "    nines_percent = 100*len(nines)/len(numbersInt)\n",
        "\n",
        "    return [ones_percent,twos_percent,threes_percent,fours_percent,fives_percent,sixes_percent,sevens_percent,eights_percent,nines_percent]\n",
        "    \n",
        "    \n",
        "    # print(\n",
        "    #     '1:',ones_percent,'\\n','2:',twos_percent,'\\n','3:',threes_percent,'\\n',\n",
        "    #     '4:',fours_percent,'\\n','5:',fives_percent,'\\n', '6:',sixes_percent,'\\n',\n",
        "    #     '7:',sevens_percent,'\\n','8:',eights_percent,'\\n','9:',nines_percent ,'\\n')\n",
        "\n",
        "\n",
        "    # print('2:',twos_percent,'\\n')\n",
        "    # print('3:',threes_percent,'\\n')\n",
        "    # print('4:',fours_percent,'\\n')\n",
        "    # print('5:',fives_percent,'\\n')\n",
        "    # print('6:',sixes_percent,'\\n')\n",
        "    # print('7:',sevens_percent,'\\n')\n",
        "    # print('8:',eights_percent,'\\n')\n",
        "    # print('9:',nines_percent ,'\\n')\n",
        "\n",
        "    # import pandas as pd\n",
        "\n",
        "    # numbersdf = pd.DataFrame(numbers)\n",
        "    # numbersdf.columns = ['values']\n",
        "\n",
        "    # sns.countplot(x='values',data=numbersdf,palette = 'BuGn_r')"
      ],
      "execution_count": 72,
      "outputs": []
    },
    {
      "cell_type": "markdown",
      "metadata": {
        "id": "jxITYxFkI5dE"
      },
      "source": [
        "Funkcja sprawdzająca czy rozkład Benforda jest zgodny z naturalnym rozłożeniem liczb czy też nie"
      ]
    },
    {
      "cell_type": "markdown",
      "metadata": {
        "id": "VZNSY2fcJRdQ"
      },
      "source": [
        ""
      ]
    },
    {
      "cell_type": "markdown",
      "metadata": {
        "id": "Q8j10yBP-iH8"
      },
      "source": [
        "Tworzę listę unikalnych IDs"
      ]
    },
    {
      "cell_type": "code",
      "metadata": {
        "id": "IqH2R633-hwO",
        "outputId": "7b47d571-258a-4d51-b0bb-eb2deddbb8d7",
        "colab": {
          "base_uri": "https://localhost:8080/",
          "height": 34
        }
      },
      "source": [
        "listaIDs = list(obciazenie['ID_UMOWY'].unique())\n",
        "listaIDs"
      ],
      "execution_count": null,
      "outputs": [
        {
          "output_type": "execute_result",
          "data": {
            "text/plain": [
              "[5, 4, 1, 3, 2]"
            ]
          },
          "metadata": {
            "tags": []
          },
          "execution_count": 65
        }
      ]
    },
    {
      "cell_type": "markdown",
      "metadata": {
        "id": "XqBjM6Hu-LNe"
      },
      "source": [
        "dla każdego z 5 klientów sprawdzę rozkład kwot obciążenia konta wg. Reguły Benforda"
      ]
    },
    {
      "cell_type": "code",
      "metadata": {
        "id": "xLTVrhmo7zup"
      },
      "source": [
        "for i in listaIDs:\n",
        "  numbers = obciazenie[obciazenie['ID_UMOWY']==i]['KWOTA_OBCIAZENIA'].tolist()\n",
        "  Benford(numbers)\n",
        "  "
      ],
      "execution_count": null,
      "outputs": []
    },
    {
      "cell_type": "markdown",
      "metadata": {
        "id": "K93wJ7WXsvEP"
      },
      "source": [
        "# Fraudster profiles"
      ]
    },
    {
      "cell_type": "markdown",
      "metadata": {
        "id": "346YnmctsxuY"
      },
      "source": [
        "source: https://home.kpmg/xx/en/home/insights/2016/05/global-profiles-of-the-fraudster.html"
      ]
    },
    {
      "cell_type": "markdown",
      "metadata": {
        "id": "KF2yTraFtRr1"
      },
      "source": [
        "between the ages of 36 and 55 (69 percent of fraudsters investigated)\n",
        "predominantly male (79 percent), with the proportion of women on the rise at 17 percent, up from 13 percent in 2010\n",
        "a threat from within (65 percent are employed by the company)\n",
        "holds an executive or director level position (35 percent)\n",
        "employed in the organization for at least six years (38 percent)\n",
        "described as autocratic (18 percent) and are three times as likely to be regarded as friendly as not\n",
        "esteemed, describing themselves as well-respected in their organization\n",
        "likely to have colluded with others (62 percent of frauds, down just slightly from 70 percent in the 2013 survey)\n",
        "motivated by personal gain (60 percent), greed (36 percent) and the sense of ‘because I can’ (27 percent)."
      ]
    },
    {
      "cell_type": "code",
      "metadata": {
        "id": "n079EzIZsxOF",
        "outputId": "a2c7c1a7-b921-469d-98f1-42268a2336c3",
        "colab": {
          "base_uri": "https://localhost:8080/",
          "height": 130
        }
      },
      "source": [
        "def profile(df):\n",
        "  if x['wiek'] >= 36 and x['wiek'] <= 55 and x['płeć'] == 'male' and x['employed'] = True and x['work experience'] > 6\"\n",
        "\n",
        "\n",
        "df_profiles = df[['wiek','plec','plec','employes','work experience']]"
      ],
      "execution_count": null,
      "outputs": [
        {
          "output_type": "error",
          "ename": "SyntaxError",
          "evalue": "ignored",
          "traceback": [
            "\u001b[0;36m  File \u001b[0;32m\"<ipython-input-28-bfa3e46fce2e>\"\u001b[0;36m, line \u001b[0;32m2\u001b[0m\n\u001b[0;31m    if x['wiek'] >= 36 and x['wiek'] <= 55 and x['płeć'] == 'male' and x['employed'] = True and x['work experience'] > 6\"\u001b[0m\n\u001b[0m                                                                                     ^\u001b[0m\n\u001b[0;31mSyntaxError\u001b[0m\u001b[0;31m:\u001b[0m invalid syntax\n"
          ]
        }
      ]
    },
    {
      "cell_type": "code",
      "metadata": {
        "id": "XuegQcgkwZop"
      },
      "source": [
        ""
      ],
      "execution_count": null,
      "outputs": []
    },
    {
      "cell_type": "markdown",
      "metadata": {
        "id": "DK_YJJmwwaNG"
      },
      "source": [
        "# Regresja logistyczna"
      ]
    },
    {
      "cell_type": "code",
      "metadata": {
        "id": "-gyC-GIyeHwG"
      },
      "source": [
        "from sklearn.linear_model import LogisticRegression\n",
        "logmodel = LogisticRegression()\n",
        "logmodel.fit(X_train,y_train)"
      ],
      "execution_count": null,
      "outputs": []
    },
    {
      "cell_type": "code",
      "metadata": {
        "id": "Ylz00aSq_08l"
      },
      "source": [
        ""
      ],
      "execution_count": null,
      "outputs": []
    },
    {
      "cell_type": "markdown",
      "metadata": {
        "id": "0Y7xbsiayZiQ"
      },
      "source": [
        "##Training"
      ]
    },
    {
      "cell_type": "markdown",
      "metadata": {
        "id": "9YtWs375yWJE"
      },
      "source": [
        "###Classification report"
      ]
    },
    {
      "cell_type": "code",
      "metadata": {
        "id": "ww9KplmdyVve"
      },
      "source": [
        "from sklearn.metrics import classification_report\n",
        "print(classification_report(y_test, predictions))"
      ],
      "execution_count": null,
      "outputs": []
    },
    {
      "cell_type": "markdown",
      "metadata": {
        "id": "dvQh2r6oyYvi"
      },
      "source": [
        ""
      ]
    },
    {
      "cell_type": "markdown",
      "metadata": {
        "id": "5nfd4fSCyhPp"
      },
      "source": [
        "###Confusion Matrix"
      ]
    },
    {
      "cell_type": "code",
      "metadata": {
        "id": "x2FG4rtpyjQ_"
      },
      "source": [
        "from sklearn.metrics import confusion_matrix\n",
        "a = confusion_matrix(y_test,predictions)\n",
        "a"
      ],
      "execution_count": null,
      "outputs": []
    },
    {
      "cell_type": "markdown",
      "metadata": {
        "id": "-7jljjTL4j61"
      },
      "source": [
        "# 3-level verification"
      ]
    },
    {
      "cell_type": "code",
      "metadata": {
        "id": "an68_4zJ4m2P"
      },
      "source": [
        "Benford = False\n",
        "Profile = False\n",
        "Model = False\n",
        "\n"
      ],
      "execution_count": null,
      "outputs": []
    }
  ]
}