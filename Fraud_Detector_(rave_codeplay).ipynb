{
  "nbformat": 4,
  "nbformat_minor": 0,
  "metadata": {
    "colab": {
      "name": "Fraud Detector (rave codeplay).ipynb",
      "provenance": [],
      "collapsed_sections": []
    },
    "kernelspec": {
      "name": "python3",
      "display_name": "Python 3"
    }
  },
  "cells": [
    {
      "cell_type": "code",
      "metadata": {
        "id": "63a6HCPeaNMt"
      },
      "source": [
        "import pandas as pd\n",
        "import seaborn as sns\n",
        "import matplotlib.pyplot as plt\n",
        "%matplotlib inline\n",
        "import numpy as np"
      ],
      "execution_count": 51,
      "outputs": []
    },
    {
      "cell_type": "markdown",
      "metadata": {
        "id": "ZpCBZr-Pyth1"
      },
      "source": [
        "#Data import"
      ]
    },
    {
      "cell_type": "code",
      "metadata": {
        "id": "QP1IshpI8_PY"
      },
      "source": [
        "data1 = pd.read_excel('dane5000.xlsx')"
      ],
      "execution_count": 52,
      "outputs": []
    },
    {
      "cell_type": "code",
      "metadata": {
        "id": "ph3QEqpH9Cq2",
        "outputId": "9a1a06b2-7447-4de8-a5cd-ffbf19db37ca",
        "colab": {
          "base_uri": "https://localhost:8080/",
          "height": 439
        }
      },
      "source": [
        "data1"
      ],
      "execution_count": 53,
      "outputs": [
        {
          "output_type": "execute_result",
          "data": {
            "text/html": [
              "<div>\n",
              "<style scoped>\n",
              "    .dataframe tbody tr th:only-of-type {\n",
              "        vertical-align: middle;\n",
              "    }\n",
              "\n",
              "    .dataframe tbody tr th {\n",
              "        vertical-align: top;\n",
              "    }\n",
              "\n",
              "    .dataframe thead th {\n",
              "        text-align: right;\n",
              "    }\n",
              "</style>\n",
              "<table border=\"1\" class=\"dataframe\">\n",
              "  <thead>\n",
              "    <tr style=\"text-align: right;\">\n",
              "      <th></th>\n",
              "      <th>DATA_OPERACJI</th>\n",
              "      <th>ID_UMOWY</th>\n",
              "      <th>KANAL</th>\n",
              "      <th>KOD_OPERACJI</th>\n",
              "      <th>KWOTA_OBCIAZENIA</th>\n",
              "      <th>KWOTA_UZNANIA</th>\n",
              "      <th>TYTUL</th>\n",
              "      <th>BENEFICJENT</th>\n",
              "      <th>ZLECENIODAWCA</th>\n",
              "      <th>KURS_OBCIAZENIA</th>\n",
              "      <th>KURS_UZNANIA</th>\n",
              "      <th>KATEGORIA_WG_TYTULU</th>\n",
              "      <th>NADKATEGORIA</th>\n",
              "    </tr>\n",
              "  </thead>\n",
              "  <tbody>\n",
              "    <tr>\n",
              "      <th>0</th>\n",
              "      <td>15/02/02</td>\n",
              "      <td>112702005</td>\n",
              "      <td>NaN</td>\n",
              "      <td>1002</td>\n",
              "      <td>0.00</td>\n",
              "      <td>200.00</td>\n",
              "      <td>ttt</td>\n",
              "      <td>bbb</td>\n",
              "      <td>zzz</td>\n",
              "      <td>1</td>\n",
              "      <td>0</td>\n",
              "      <td>NaN</td>\n",
              "      <td>NaN</td>\n",
              "    </tr>\n",
              "    <tr>\n",
              "      <th>1</th>\n",
              "      <td>15/04/24</td>\n",
              "      <td>769072013</td>\n",
              "      <td>NaN</td>\n",
              "      <td>1001</td>\n",
              "      <td>0.00</td>\n",
              "      <td>40.00</td>\n",
              "      <td>ttt</td>\n",
              "      <td>bbb</td>\n",
              "      <td>zzz</td>\n",
              "      <td>1</td>\n",
              "      <td>0</td>\n",
              "      <td>WPŁATA_WLASNA</td>\n",
              "      <td>NaN</td>\n",
              "    </tr>\n",
              "    <tr>\n",
              "      <th>2</th>\n",
              "      <td>15/05/29</td>\n",
              "      <td>758012013</td>\n",
              "      <td>NaN</td>\n",
              "      <td>1004</td>\n",
              "      <td>0.00</td>\n",
              "      <td>1257.71</td>\n",
              "      <td>ttt</td>\n",
              "      <td>bbb</td>\n",
              "      <td>zzz</td>\n",
              "      <td>1</td>\n",
              "      <td>0</td>\n",
              "      <td>POBORY</td>\n",
              "      <td>POBORY</td>\n",
              "    </tr>\n",
              "    <tr>\n",
              "      <th>3</th>\n",
              "      <td>15/07/08</td>\n",
              "      <td>521042011</td>\n",
              "      <td>WWS</td>\n",
              "      <td>1050</td>\n",
              "      <td>1256.83</td>\n",
              "      <td>0.00</td>\n",
              "      <td>ttt</td>\n",
              "      <td>bbb</td>\n",
              "      <td>zzz</td>\n",
              "      <td>1</td>\n",
              "      <td>0</td>\n",
              "      <td>NaN</td>\n",
              "      <td>NaN</td>\n",
              "    </tr>\n",
              "    <tr>\n",
              "      <th>4</th>\n",
              "      <td>15/07/09</td>\n",
              "      <td>240882006</td>\n",
              "      <td>NaN</td>\n",
              "      <td>1004</td>\n",
              "      <td>0.00</td>\n",
              "      <td>989.56</td>\n",
              "      <td>ttt</td>\n",
              "      <td>bbb</td>\n",
              "      <td>zzz</td>\n",
              "      <td>1</td>\n",
              "      <td>0</td>\n",
              "      <td>POBORY</td>\n",
              "      <td>POBORY</td>\n",
              "    </tr>\n",
              "    <tr>\n",
              "      <th>...</th>\n",
              "      <td>...</td>\n",
              "      <td>...</td>\n",
              "      <td>...</td>\n",
              "      <td>...</td>\n",
              "      <td>...</td>\n",
              "      <td>...</td>\n",
              "      <td>...</td>\n",
              "      <td>...</td>\n",
              "      <td>...</td>\n",
              "      <td>...</td>\n",
              "      <td>...</td>\n",
              "      <td>...</td>\n",
              "      <td>...</td>\n",
              "    </tr>\n",
              "    <tr>\n",
              "      <th>4995</th>\n",
              "      <td>15/05/08</td>\n",
              "      <td>688462013</td>\n",
              "      <td>NaN</td>\n",
              "      <td>9150</td>\n",
              "      <td>0.50</td>\n",
              "      <td>0.00</td>\n",
              "      <td>ttt</td>\n",
              "      <td>bbb</td>\n",
              "      <td>zzz</td>\n",
              "      <td>1</td>\n",
              "      <td>0</td>\n",
              "      <td>PROWIZJA</td>\n",
              "      <td>NaN</td>\n",
              "    </tr>\n",
              "    <tr>\n",
              "      <th>4996</th>\n",
              "      <td>15/05/13</td>\n",
              "      <td>57252005</td>\n",
              "      <td>CUI</td>\n",
              "      <td>1052</td>\n",
              "      <td>287.00</td>\n",
              "      <td>0.00</td>\n",
              "      <td>ttt</td>\n",
              "      <td>bbb</td>\n",
              "      <td>zzz</td>\n",
              "      <td>1</td>\n",
              "      <td>0</td>\n",
              "      <td>POBORY</td>\n",
              "      <td>POBORY</td>\n",
              "    </tr>\n",
              "    <tr>\n",
              "      <th>4997</th>\n",
              "      <td>15/05/26</td>\n",
              "      <td>286032008</td>\n",
              "      <td>NaN</td>\n",
              "      <td>1041</td>\n",
              "      <td>170.00</td>\n",
              "      <td>0.00</td>\n",
              "      <td>ttt</td>\n",
              "      <td>bbb</td>\n",
              "      <td>zzz</td>\n",
              "      <td>1</td>\n",
              "      <td>0</td>\n",
              "      <td>WYPŁATA_GOTÓWKOWA</td>\n",
              "      <td>NaN</td>\n",
              "    </tr>\n",
              "    <tr>\n",
              "      <th>4998</th>\n",
              "      <td>15/06/26</td>\n",
              "      <td>110642005</td>\n",
              "      <td>NaN</td>\n",
              "      <td>1042</td>\n",
              "      <td>86.35</td>\n",
              "      <td>0.00</td>\n",
              "      <td>ttt</td>\n",
              "      <td>bbb</td>\n",
              "      <td>zzz</td>\n",
              "      <td>1</td>\n",
              "      <td>0</td>\n",
              "      <td>CZYNSZ</td>\n",
              "      <td>RACHUNKI</td>\n",
              "    </tr>\n",
              "    <tr>\n",
              "      <th>4999</th>\n",
              "      <td>15/08/05</td>\n",
              "      <td>628592012</td>\n",
              "      <td>WWS</td>\n",
              "      <td>1052</td>\n",
              "      <td>327.49</td>\n",
              "      <td>0.00</td>\n",
              "      <td>ttt</td>\n",
              "      <td>bbb</td>\n",
              "      <td>zzz</td>\n",
              "      <td>1</td>\n",
              "      <td>0</td>\n",
              "      <td>SAMORZĄD</td>\n",
              "      <td>NaN</td>\n",
              "    </tr>\n",
              "  </tbody>\n",
              "</table>\n",
              "<p>5000 rows × 13 columns</p>\n",
              "</div>"
            ],
            "text/plain": [
              "     DATA_OPERACJI   ID_UMOWY  ... KATEGORIA_WG_TYTULU NADKATEGORIA\n",
              "0         15/02/02  112702005  ...                 NaN          NaN\n",
              "1         15/04/24  769072013  ...       WPŁATA_WLASNA          NaN\n",
              "2         15/05/29  758012013  ...              POBORY       POBORY\n",
              "3         15/07/08  521042011  ...                 NaN          NaN\n",
              "4         15/07/09  240882006  ...              POBORY       POBORY\n",
              "...            ...        ...  ...                 ...          ...\n",
              "4995      15/05/08  688462013  ...            PROWIZJA          NaN\n",
              "4996      15/05/13   57252005  ...              POBORY       POBORY\n",
              "4997      15/05/26  286032008  ...   WYPŁATA_GOTÓWKOWA          NaN\n",
              "4998      15/06/26  110642005  ...              CZYNSZ     RACHUNKI\n",
              "4999      15/08/05  628592012  ...            SAMORZĄD          NaN\n",
              "\n",
              "[5000 rows x 13 columns]"
            ]
          },
          "metadata": {
            "tags": []
          },
          "execution_count": 53
        }
      ]
    },
    {
      "cell_type": "markdown",
      "metadata": {
        "id": "TLhS2QVnB7fG"
      },
      "source": [
        ""
      ]
    },
    {
      "cell_type": "markdown",
      "metadata": {
        "id": "inwmTmrqev1c"
      },
      "source": [
        "# Benfrod"
      ]
    },
    {
      "cell_type": "markdown",
      "metadata": {
        "id": "rSwdgxzy9nmn"
      },
      "source": [
        "##Data preprocessing"
      ]
    },
    {
      "cell_type": "code",
      "metadata": {
        "id": "Q3Teq63T7-ds",
        "outputId": "b4794d18-eb00-47d2-e327-f254ac4952c2",
        "colab": {
          "base_uri": "https://localhost:8080/",
          "height": 51
        }
      },
      "source": [
        "IDs = data1['ID_UMOWY'].unique()\n",
        "IDs"
      ],
      "execution_count": 54,
      "outputs": [
        {
          "output_type": "execute_result",
          "data": {
            "text/plain": [
              "array([112702005, 769072013, 758012013, ..., 924112015, 195152005,\n",
              "       688462013])"
            ]
          },
          "metadata": {
            "tags": []
          },
          "execution_count": 54
        }
      ]
    },
    {
      "cell_type": "code",
      "metadata": {
        "id": "s_kT7YeF9SDj",
        "outputId": "ee729b5f-3ec5-4df9-c24f-1e3d48faa58f",
        "colab": {
          "base_uri": "https://localhost:8080/",
          "height": 34
        }
      },
      "source": [
        "data1['ID_UMOWY'].nunique()"
      ],
      "execution_count": 55,
      "outputs": [
        {
          "output_type": "execute_result",
          "data": {
            "text/plain": [
              "2754"
            ]
          },
          "metadata": {
            "tags": []
          },
          "execution_count": 55
        }
      ]
    },
    {
      "cell_type": "markdown",
      "metadata": {
        "id": "ksvaGNZZ81K0"
      },
      "source": [
        "Mamy zbyt mało danych dotyczących jednego klienta, przypada średnio niecałe 2 transkacje na 1 klienta."
      ]
    },
    {
      "cell_type": "markdown",
      "metadata": {
        "id": "BuNClB-Y8rcz"
      },
      "source": [
        "Na potrzeby projektu tworzę 5 unikalnych ID 1,2,3,4,5."
      ]
    },
    {
      "cell_type": "code",
      "metadata": {
        "id": "-D3YdYDc8ztH",
        "outputId": "4819caf9-2630-48d1-b23b-5574ed2a2027",
        "colab": {
          "base_uri": "https://localhost:8080/",
          "height": 439
        }
      },
      "source": [
        "import random\n",
        "data1['ID_UMOWY'] = data1['ID_UMOWY'].apply(lambda x: random.randint(1,5))\n",
        "data1 = data1.iloc[:200,:]\n",
        "data1"
      ],
      "execution_count": 56,
      "outputs": [
        {
          "output_type": "execute_result",
          "data": {
            "text/html": [
              "<div>\n",
              "<style scoped>\n",
              "    .dataframe tbody tr th:only-of-type {\n",
              "        vertical-align: middle;\n",
              "    }\n",
              "\n",
              "    .dataframe tbody tr th {\n",
              "        vertical-align: top;\n",
              "    }\n",
              "\n",
              "    .dataframe thead th {\n",
              "        text-align: right;\n",
              "    }\n",
              "</style>\n",
              "<table border=\"1\" class=\"dataframe\">\n",
              "  <thead>\n",
              "    <tr style=\"text-align: right;\">\n",
              "      <th></th>\n",
              "      <th>DATA_OPERACJI</th>\n",
              "      <th>ID_UMOWY</th>\n",
              "      <th>KANAL</th>\n",
              "      <th>KOD_OPERACJI</th>\n",
              "      <th>KWOTA_OBCIAZENIA</th>\n",
              "      <th>KWOTA_UZNANIA</th>\n",
              "      <th>TYTUL</th>\n",
              "      <th>BENEFICJENT</th>\n",
              "      <th>ZLECENIODAWCA</th>\n",
              "      <th>KURS_OBCIAZENIA</th>\n",
              "      <th>KURS_UZNANIA</th>\n",
              "      <th>KATEGORIA_WG_TYTULU</th>\n",
              "      <th>NADKATEGORIA</th>\n",
              "    </tr>\n",
              "  </thead>\n",
              "  <tbody>\n",
              "    <tr>\n",
              "      <th>0</th>\n",
              "      <td>15/02/02</td>\n",
              "      <td>5</td>\n",
              "      <td>NaN</td>\n",
              "      <td>1002</td>\n",
              "      <td>0.00</td>\n",
              "      <td>200.00</td>\n",
              "      <td>ttt</td>\n",
              "      <td>bbb</td>\n",
              "      <td>zzz</td>\n",
              "      <td>1</td>\n",
              "      <td>0</td>\n",
              "      <td>NaN</td>\n",
              "      <td>NaN</td>\n",
              "    </tr>\n",
              "    <tr>\n",
              "      <th>1</th>\n",
              "      <td>15/04/24</td>\n",
              "      <td>4</td>\n",
              "      <td>NaN</td>\n",
              "      <td>1001</td>\n",
              "      <td>0.00</td>\n",
              "      <td>40.00</td>\n",
              "      <td>ttt</td>\n",
              "      <td>bbb</td>\n",
              "      <td>zzz</td>\n",
              "      <td>1</td>\n",
              "      <td>0</td>\n",
              "      <td>WPŁATA_WLASNA</td>\n",
              "      <td>NaN</td>\n",
              "    </tr>\n",
              "    <tr>\n",
              "      <th>2</th>\n",
              "      <td>15/05/29</td>\n",
              "      <td>2</td>\n",
              "      <td>NaN</td>\n",
              "      <td>1004</td>\n",
              "      <td>0.00</td>\n",
              "      <td>1257.71</td>\n",
              "      <td>ttt</td>\n",
              "      <td>bbb</td>\n",
              "      <td>zzz</td>\n",
              "      <td>1</td>\n",
              "      <td>0</td>\n",
              "      <td>POBORY</td>\n",
              "      <td>POBORY</td>\n",
              "    </tr>\n",
              "    <tr>\n",
              "      <th>3</th>\n",
              "      <td>15/07/08</td>\n",
              "      <td>4</td>\n",
              "      <td>WWS</td>\n",
              "      <td>1050</td>\n",
              "      <td>1256.83</td>\n",
              "      <td>0.00</td>\n",
              "      <td>ttt</td>\n",
              "      <td>bbb</td>\n",
              "      <td>zzz</td>\n",
              "      <td>1</td>\n",
              "      <td>0</td>\n",
              "      <td>NaN</td>\n",
              "      <td>NaN</td>\n",
              "    </tr>\n",
              "    <tr>\n",
              "      <th>4</th>\n",
              "      <td>15/07/09</td>\n",
              "      <td>3</td>\n",
              "      <td>NaN</td>\n",
              "      <td>1004</td>\n",
              "      <td>0.00</td>\n",
              "      <td>989.56</td>\n",
              "      <td>ttt</td>\n",
              "      <td>bbb</td>\n",
              "      <td>zzz</td>\n",
              "      <td>1</td>\n",
              "      <td>0</td>\n",
              "      <td>POBORY</td>\n",
              "      <td>POBORY</td>\n",
              "    </tr>\n",
              "    <tr>\n",
              "      <th>...</th>\n",
              "      <td>...</td>\n",
              "      <td>...</td>\n",
              "      <td>...</td>\n",
              "      <td>...</td>\n",
              "      <td>...</td>\n",
              "      <td>...</td>\n",
              "      <td>...</td>\n",
              "      <td>...</td>\n",
              "      <td>...</td>\n",
              "      <td>...</td>\n",
              "      <td>...</td>\n",
              "      <td>...</td>\n",
              "      <td>...</td>\n",
              "    </tr>\n",
              "    <tr>\n",
              "      <th>195</th>\n",
              "      <td>15/05/05</td>\n",
              "      <td>5</td>\n",
              "      <td>NaN</td>\n",
              "      <td>9150</td>\n",
              "      <td>0.50</td>\n",
              "      <td>0.00</td>\n",
              "      <td>ttt</td>\n",
              "      <td>bbb</td>\n",
              "      <td>zzz</td>\n",
              "      <td>1</td>\n",
              "      <td>0</td>\n",
              "      <td>PROWIZJA</td>\n",
              "      <td>NaN</td>\n",
              "    </tr>\n",
              "    <tr>\n",
              "      <th>196</th>\n",
              "      <td>15/05/21</td>\n",
              "      <td>4</td>\n",
              "      <td>NaN</td>\n",
              "      <td>1041</td>\n",
              "      <td>50.00</td>\n",
              "      <td>0.00</td>\n",
              "      <td>ttt</td>\n",
              "      <td>bbb</td>\n",
              "      <td>zzz</td>\n",
              "      <td>1</td>\n",
              "      <td>0</td>\n",
              "      <td>WYPŁATA_GOTÓWKOWA</td>\n",
              "      <td>NaN</td>\n",
              "    </tr>\n",
              "    <tr>\n",
              "      <th>197</th>\n",
              "      <td>15/06/03</td>\n",
              "      <td>4</td>\n",
              "      <td>NaN</td>\n",
              "      <td>1041</td>\n",
              "      <td>400.00</td>\n",
              "      <td>0.00</td>\n",
              "      <td>ttt</td>\n",
              "      <td>bbb</td>\n",
              "      <td>zzz</td>\n",
              "      <td>1</td>\n",
              "      <td>0</td>\n",
              "      <td>WYPŁATA_GOTÓWKOWA</td>\n",
              "      <td>NaN</td>\n",
              "    </tr>\n",
              "    <tr>\n",
              "      <th>198</th>\n",
              "      <td>15/06/24</td>\n",
              "      <td>5</td>\n",
              "      <td>NaN</td>\n",
              "      <td>3101</td>\n",
              "      <td>192.00</td>\n",
              "      <td>0.00</td>\n",
              "      <td>ttt</td>\n",
              "      <td>bbb</td>\n",
              "      <td>zzz</td>\n",
              "      <td>1</td>\n",
              "      <td>0</td>\n",
              "      <td>KREDYT</td>\n",
              "      <td>NaN</td>\n",
              "    </tr>\n",
              "    <tr>\n",
              "      <th>199</th>\n",
              "      <td>15/08/26</td>\n",
              "      <td>5</td>\n",
              "      <td>NaN</td>\n",
              "      <td>1041</td>\n",
              "      <td>1100.00</td>\n",
              "      <td>0.00</td>\n",
              "      <td>ttt</td>\n",
              "      <td>bbb</td>\n",
              "      <td>zzz</td>\n",
              "      <td>1</td>\n",
              "      <td>0</td>\n",
              "      <td>WYPŁATA_GOTÓWKOWA</td>\n",
              "      <td>NaN</td>\n",
              "    </tr>\n",
              "  </tbody>\n",
              "</table>\n",
              "<p>200 rows × 13 columns</p>\n",
              "</div>"
            ],
            "text/plain": [
              "    DATA_OPERACJI  ID_UMOWY  ... KATEGORIA_WG_TYTULU NADKATEGORIA\n",
              "0        15/02/02         5  ...                 NaN          NaN\n",
              "1        15/04/24         4  ...       WPŁATA_WLASNA          NaN\n",
              "2        15/05/29         2  ...              POBORY       POBORY\n",
              "3        15/07/08         4  ...                 NaN          NaN\n",
              "4        15/07/09         3  ...              POBORY       POBORY\n",
              "..            ...       ...  ...                 ...          ...\n",
              "195      15/05/05         5  ...            PROWIZJA          NaN\n",
              "196      15/05/21         4  ...   WYPŁATA_GOTÓWKOWA          NaN\n",
              "197      15/06/03         4  ...   WYPŁATA_GOTÓWKOWA          NaN\n",
              "198      15/06/24         5  ...              KREDYT          NaN\n",
              "199      15/08/26         5  ...   WYPŁATA_GOTÓWKOWA          NaN\n",
              "\n",
              "[200 rows x 13 columns]"
            ]
          },
          "metadata": {
            "tags": []
          },
          "execution_count": 56
        }
      ]
    },
    {
      "cell_type": "code",
      "metadata": {
        "id": "jxLgVnAk9W_0",
        "outputId": "11a79857-f79f-4b14-c3b4-d23e2b794557",
        "colab": {
          "base_uri": "https://localhost:8080/",
          "height": 34
        }
      },
      "source": [
        "data1['ID_UMOWY'].nunique()"
      ],
      "execution_count": 57,
      "outputs": [
        {
          "output_type": "execute_result",
          "data": {
            "text/plain": [
              "5"
            ]
          },
          "metadata": {
            "tags": []
          },
          "execution_count": 57
        }
      ]
    },
    {
      "cell_type": "markdown",
      "metadata": {
        "id": "U3px4C8w9kYI"
      },
      "source": [
        "Teraz mamy 5 unikalnych klientów"
      ]
    },
    {
      "cell_type": "code",
      "metadata": {
        "id": "uPkOykKd9pJ3",
        "outputId": "49bce4ef-92da-40c9-f672-26f883db7e62",
        "colab": {
          "base_uri": "https://localhost:8080/",
          "height": 419
        }
      },
      "source": [
        "obciazenie = data1[['ID_UMOWY','KWOTA_OBCIAZENIA']]\n",
        "obciazenie         "
      ],
      "execution_count": 58,
      "outputs": [
        {
          "output_type": "execute_result",
          "data": {
            "text/html": [
              "<div>\n",
              "<style scoped>\n",
              "    .dataframe tbody tr th:only-of-type {\n",
              "        vertical-align: middle;\n",
              "    }\n",
              "\n",
              "    .dataframe tbody tr th {\n",
              "        vertical-align: top;\n",
              "    }\n",
              "\n",
              "    .dataframe thead th {\n",
              "        text-align: right;\n",
              "    }\n",
              "</style>\n",
              "<table border=\"1\" class=\"dataframe\">\n",
              "  <thead>\n",
              "    <tr style=\"text-align: right;\">\n",
              "      <th></th>\n",
              "      <th>ID_UMOWY</th>\n",
              "      <th>KWOTA_OBCIAZENIA</th>\n",
              "    </tr>\n",
              "  </thead>\n",
              "  <tbody>\n",
              "    <tr>\n",
              "      <th>0</th>\n",
              "      <td>5</td>\n",
              "      <td>0.00</td>\n",
              "    </tr>\n",
              "    <tr>\n",
              "      <th>1</th>\n",
              "      <td>4</td>\n",
              "      <td>0.00</td>\n",
              "    </tr>\n",
              "    <tr>\n",
              "      <th>2</th>\n",
              "      <td>2</td>\n",
              "      <td>0.00</td>\n",
              "    </tr>\n",
              "    <tr>\n",
              "      <th>3</th>\n",
              "      <td>4</td>\n",
              "      <td>1256.83</td>\n",
              "    </tr>\n",
              "    <tr>\n",
              "      <th>4</th>\n",
              "      <td>3</td>\n",
              "      <td>0.00</td>\n",
              "    </tr>\n",
              "    <tr>\n",
              "      <th>...</th>\n",
              "      <td>...</td>\n",
              "      <td>...</td>\n",
              "    </tr>\n",
              "    <tr>\n",
              "      <th>195</th>\n",
              "      <td>5</td>\n",
              "      <td>0.50</td>\n",
              "    </tr>\n",
              "    <tr>\n",
              "      <th>196</th>\n",
              "      <td>4</td>\n",
              "      <td>50.00</td>\n",
              "    </tr>\n",
              "    <tr>\n",
              "      <th>197</th>\n",
              "      <td>4</td>\n",
              "      <td>400.00</td>\n",
              "    </tr>\n",
              "    <tr>\n",
              "      <th>198</th>\n",
              "      <td>5</td>\n",
              "      <td>192.00</td>\n",
              "    </tr>\n",
              "    <tr>\n",
              "      <th>199</th>\n",
              "      <td>5</td>\n",
              "      <td>1100.00</td>\n",
              "    </tr>\n",
              "  </tbody>\n",
              "</table>\n",
              "<p>200 rows × 2 columns</p>\n",
              "</div>"
            ],
            "text/plain": [
              "     ID_UMOWY  KWOTA_OBCIAZENIA\n",
              "0           5              0.00\n",
              "1           4              0.00\n",
              "2           2              0.00\n",
              "3           4           1256.83\n",
              "4           3              0.00\n",
              "..        ...               ...\n",
              "195         5              0.50\n",
              "196         4             50.00\n",
              "197         4            400.00\n",
              "198         5            192.00\n",
              "199         5           1100.00\n",
              "\n",
              "[200 rows x 2 columns]"
            ]
          },
          "metadata": {
            "tags": []
          },
          "execution_count": 58
        }
      ]
    },
    {
      "cell_type": "code",
      "metadata": {
        "id": "6SaeiksEJ5_V",
        "outputId": "2acb0b56-195d-4cbc-ba7e-0da5648e958b",
        "colab": {
          "base_uri": "https://localhost:8080/",
          "height": 799
        }
      },
      "source": [
        "numbers = data1[data1['ID_UMOWY'] == 1]['KWOTA_OBCIAZENIA'].tolist()\n",
        "numbers"
      ],
      "execution_count": 60,
      "outputs": [
        {
          "output_type": "execute_result",
          "data": {
            "text/plain": [
              "[0.0,\n",
              " 152.88,\n",
              " 107.93,\n",
              " 50.0,\n",
              " 3667.84,\n",
              " 0.0,\n",
              " 1.0,\n",
              " 0.0,\n",
              " 0.0,\n",
              " 0.0,\n",
              " 0.0,\n",
              " 0.0,\n",
              " 495.0,\n",
              " 100.0,\n",
              " 1526.11,\n",
              " 500.0,\n",
              " 1660.0,\n",
              " 721.52,\n",
              " 2061.72,\n",
              " 25.79,\n",
              " 1176.0,\n",
              " 260.96,\n",
              " 0.0,\n",
              " 30.0,\n",
              " 1816.64,\n",
              " 4866.1,\n",
              " 0.0,\n",
              " 4000.0,\n",
              " 0.0,\n",
              " 0.0,\n",
              " 1007.27,\n",
              " 200.0,\n",
              " 6899.91,\n",
              " 72.0,\n",
              " 0.0,\n",
              " 0.0,\n",
              " 0.0,\n",
              " 0.0,\n",
              " 0.0,\n",
              " 0.0,\n",
              " 77.0,\n",
              " 385.81,\n",
              " 1.0,\n",
              " 1641.77,\n",
              " 36.91,\n",
              " 121.83]"
            ]
          },
          "metadata": {
            "tags": []
          },
          "execution_count": 60
        }
      ]
    },
    {
      "cell_type": "markdown",
      "metadata": {
        "id": "EpFu1kWk_DJE"
      },
      "source": [
        "Funkcja zliczająca liczby zgodnie z regułą Benforda"
      ]
    },
    {
      "cell_type": "code",
      "metadata": {
        "id": "9mRbM8vU9cNE"
      },
      "source": [
        "# # c.d. above\n",
        "\n",
        "# class Car:\n",
        "#   def __init__(self, brand, isAirBagOk, isPaintingOk, isMechanicOk): \n",
        "#     self.brand = brand\n",
        "#     self.isAirBagOk = isAirBagOk\n",
        "#     self.isPaintingOk = isPaintingOk\n",
        "#     self.isMechanicOk = isMechanicOk\n",
        "\n",
        "# car_01 = Car('Seat',True,True,True) # instancje klasy \n",
        "# car_02 = Car('Opel',True,True,True)\n",
        "\n",
        "# print(car_01.brand, car_01.isAirBagOk, car_01.isPaintingOk, car_01.isMechanicOk)\n",
        "# print(car_02.brand, car_02.isAirBagOk, car_02.isPaintingOk, car_02.isMechanicOk)\n",
        "\n",
        "class Benford:\n",
        "    # numbers = []\n",
        "\n",
        "   def __init__(self, numbers):\n",
        "      self.numbers = numbers\n",
        "\n",
        "      for i in numbers:\n",
        "          txt = str(i)\n",
        "          numbers.append(txt[0])\n",
        "\n",
        "      ones = []\n",
        "      twos = []\n",
        "      threes = []\n",
        "      fours = []\n",
        "      fives = []\n",
        "      sixs = []\n",
        "      sevens = []\n",
        "      eights = []\n",
        "      nines = []\n",
        "\n",
        "      numbersInt = []\n",
        "\n",
        "      for i in numbers:\n",
        "          numbersInt.append(int(i))\n",
        "\n",
        "      for i in numbersInt:\n",
        "          if i == 1:\n",
        "              ones.append(i)\n",
        "          elif i == 2:\n",
        "              twos.append(i)\n",
        "          elif i == 3:\n",
        "              threes.append(i)\n",
        "          elif i == 4:\n",
        "              fours.append(i)\n",
        "          elif i == 5:\n",
        "              fives.append(i)\n",
        "          elif i == 6:\n",
        "              sixs.append(i)\n",
        "          elif i == 7:\n",
        "              sevens.append(i)\n",
        "          elif i == 8:\n",
        "              eights.append(i)\n",
        "          elif i == 9:\n",
        "              nines.append(i)\n",
        "\n",
        "      ones_percent = len(ones)/len(numbersInt)\n",
        "      twos_percent = len(twos)/len(numbersInt)\n",
        "      threes_percent = len(threes)/len(numbersInt)\n",
        "      fours_percent = len(fours)/len(numbersInt)\n",
        "      fives_percent = len(fives)/len(numbersInt)\n",
        "      sixes_percent = len(sixs)/len(numbersInt)\n",
        "      sevens_percent = len(sevens)/len(numbersInt)\n",
        "      eights_percent = len(eights)/len(numbersInt)\n",
        "      nines_percent = len(nines)/len(numbersInt)\n",
        "\n",
        "      BenfordClientDist = [ones_percent,twos_percent,threes_percent,fours_percent,fives_percent,sixes_percent,sevens_percent,eights_percent,nines_percent]\n",
        "\n",
        "      return BenfordClientDist\n",
        "\n",
        "      def CheckBenfords(self):\n",
        "        \n",
        "        a = 0.301\n",
        "        b = 0.176\n",
        "        c = 0.125\n",
        "        d = 0.097\n",
        "        e = 0.079\n",
        "        f = 0.067\n",
        "        g = 0.058\n",
        "        h = 0.051\n",
        "        i = 0.046\n",
        "\n",
        "        BenfordNaturalDist = [a,b,c,d,e,f,g,h,i]\n",
        "        BenfordsControl = False\n",
        "        escalationReport = []\n",
        "        BenfordClientDist = Benford(self)\n",
        "\n",
        "        for i in range(1,10):\n",
        "          if abs(BenfordNaturalDist[i] - BenfordClientDist[i]) > 0.1:\n",
        "            escalationReport.append(1)\n",
        "        \n",
        "          if escalationReport.sum() > 2:\n",
        "            BenfordsControl = True\n",
        "\n",
        "        return BenfordsControl"
      ],
      "execution_count": 61,
      "outputs": []
    },
    {
      "cell_type": "markdown",
      "metadata": {
        "id": "jxITYxFkI5dE"
      },
      "source": [
        "Funkcja sprawdzająca czy rozkład Benforda jest zgodny z naturalnym rozłożeniem liczb czy też nie"
      ]
    },
    {
      "cell_type": "markdown",
      "metadata": {
        "id": "bSF2lbRNN5nc"
      },
      "source": [
        "Występowanie cyfr jako pierwszych w liczbach\n",
        "\n",
        "1 - 30.1%\t2 - 17.6%\t3 - 12.5%\t4 - 9.7%\t5 - 7.9%\t6 - 6.7%\t7 - 5.8%\t8 - 5.1%\t9 - 4.6%\n",
        "\n",
        "W naszym modelu założyliśmy, że eskalacja testu Benforda powinna dotyczyć każdej osoby której przynajmniej 2 liczby odbiegają od przyjętej powyżej normy o conajmniej 10%"
      ]
    },
    {
      "cell_type": "code",
      "metadata": {
        "id": "1xF3O66WJ9Gp"
      },
      "source": [
        "a = 0.301\n",
        "b = 0.176\n",
        "c = 0.125\n",
        "d = 0.097\n",
        "e = 0.079\n",
        "f = 0.067\n",
        "g = 0.058\n",
        "h = 0.051\n",
        "i = 0.046\n",
        "\n",
        "BenfordNaturalDist = [a,b,c,d,e,f,g,h,i]\n",
        "\n",
        "def checkBenfords(BenfordClientDist):\n",
        "  BenfordsControl = False\n",
        "\n",
        "  escalationReport = []\n",
        "  for i in range(1,10):\n",
        "    if abs(BenfordNaturalDist[i] - BenfordClientDist[i]) > 0.1:\n",
        "      escalationReport.append(1)\n",
        "  \n",
        "  if escalationReport.sum() > 2:\n",
        "    return True"
      ],
      "execution_count": 63,
      "outputs": []
    },
    {
      "cell_type": "markdown",
      "metadata": {
        "id": "VZNSY2fcJRdQ"
      },
      "source": [
        ""
      ]
    },
    {
      "cell_type": "markdown",
      "metadata": {
        "id": "Q8j10yBP-iH8"
      },
      "source": [
        "Tworzę listę unikalnych IDs"
      ]
    },
    {
      "cell_type": "code",
      "metadata": {
        "id": "4zjf0lW_Uk46",
        "outputId": "a90c5450-8adc-430c-82cb-132b9547a182",
        "colab": {
          "base_uri": "https://localhost:8080/",
          "height": 34
        }
      },
      "source": [
        "listaIDs = list(obciazenie['ID_UMOWY'].unique())\n",
        "listaIDs"
      ],
      "execution_count": 64,
      "outputs": [
        {
          "output_type": "execute_result",
          "data": {
            "text/plain": [
              "[5, 4, 2, 3, 1]"
            ]
          },
          "metadata": {
            "tags": []
          },
          "execution_count": 64
        }
      ]
    },
    {
      "cell_type": "markdown",
      "metadata": {
        "id": "XqBjM6Hu-LNe"
      },
      "source": [
        "dla każdego z 5 klientów sprawdzę rozkład kwot obciążenia konta wg. Reguły Benforda"
      ]
    },
    {
      "cell_type": "code",
      "metadata": {
        "id": "xLTVrhmo7zup"
      },
      "source": [
        "def CheckClientBenford(ClientsID):\n",
        "  numbers = obciazenie[obciazenie['ID_UMOWY']==ClientsID]['KWOTA_OBCIAZENIA'].tolist()\n",
        "  BenfordClientDist = Benford(numbers)\n",
        "  checkBenfords(BenfordClientDist)"
      ],
      "execution_count": 65,
      "outputs": []
    },
    {
      "cell_type": "markdown",
      "metadata": {
        "id": "K93wJ7WXsvEP"
      },
      "source": [
        "# Fraudster profiles"
      ]
    },
    {
      "cell_type": "markdown",
      "metadata": {
        "id": "346YnmctsxuY"
      },
      "source": [
        "source: https://home.kpmg/xx/en/home/insights/2016/05/global-profiles-of-the-fraudster.html"
      ]
    },
    {
      "cell_type": "markdown",
      "metadata": {
        "id": "KF2yTraFtRr1"
      },
      "source": [
        "between the ages of 36 and 55 (69 percent of fraudsters investigated)\n",
        "predominantly male (79 percent), with the proportion of women on the rise at 17 percent, up from 13 percent in 2010\n",
        "a threat from within (65 percent are employed by the company)\n",
        "holds an executive or director level position (35 percent)\n",
        "employed in the organization for at least six years (38 percent)\n",
        "described as autocratic (18 percent) and are three times as likely to be regarded as friendly as not\n",
        "esteemed, describing themselves as well-respected in their organization\n",
        "likely to have colluded with others (62 percent of frauds, down just slightly from 70 percent in the 2013 survey)\n",
        "motivated by personal gain (60 percent), greed (36 percent) and the sense of ‘because I can’ (27 percent)."
      ]
    },
    {
      "cell_type": "code",
      "metadata": {
        "id": "YxTZ2O9DdJLW"
      },
      "source": [
        "import pandas as pd \n",
        "data2 = pd.read_excel('dane_do_nauki.xlsx')"
      ],
      "execution_count": 66,
      "outputs": []
    },
    {
      "cell_type": "code",
      "metadata": {
        "id": "kb87D8lpnoXB"
      },
      "source": [
        "data2.rename(columns = {'Czy potencjalny Frauder [ 0 - nie , 1 - tak' : 'Czy wypływy wieksze od dochodu'}, inplace = True)"
      ],
      "execution_count": 67,
      "outputs": []
    },
    {
      "cell_type": "markdown",
      "metadata": {
        "id": "B8RsLa_-phlQ"
      },
      "source": [
        "Na potrzeby projektu wycinam jedynie 5 pierwszych wierszy, dla 5 różnych klientów"
      ]
    },
    {
      "cell_type": "code",
      "metadata": {
        "id": "-7lG5dVhodfW"
      },
      "source": [
        "data2 = data2.iloc[0:5]"
      ],
      "execution_count": 68,
      "outputs": []
    },
    {
      "cell_type": "code",
      "metadata": {
        "id": "JIWBSjdcqZRR",
        "outputId": "dc234e75-0674-450f-bccc-2f4f574d14ab",
        "colab": {
          "base_uri": "https://localhost:8080/",
          "height": 272
        }
      },
      "source": [
        "data2"
      ],
      "execution_count": 69,
      "outputs": [
        {
          "output_type": "execute_result",
          "data": {
            "text/html": [
              "<div>\n",
              "<style scoped>\n",
              "    .dataframe tbody tr th:only-of-type {\n",
              "        vertical-align: middle;\n",
              "    }\n",
              "\n",
              "    .dataframe tbody tr th {\n",
              "        vertical-align: top;\n",
              "    }\n",
              "\n",
              "    .dataframe thead th {\n",
              "        text-align: right;\n",
              "    }\n",
              "</style>\n",
              "<table border=\"1\" class=\"dataframe\">\n",
              "  <thead>\n",
              "    <tr style=\"text-align: right;\">\n",
              "      <th></th>\n",
              "      <th>plec [0 - kobieta, 1 - mezczyzna]</th>\n",
              "      <th>wiek</th>\n",
              "      <th>pochodzenie</th>\n",
              "      <th>dochód miesieczny</th>\n",
              "      <th>miesieczne wplywy na konto</th>\n",
              "      <th>miesieczne wydatki z konta</th>\n",
              "      <th>czy posiada kredyt [0 - Nie / 1 - Tak]</th>\n",
              "      <th>Wyksztalcenie [0 - brak, 1 - podstawowe, 2 - srednie, 3 - wyzsze]</th>\n",
              "      <th>Doswiadczenie latach</th>\n",
              "      <th>Zawod</th>\n",
              "      <th>Czy wypływy wieksze od dochodu</th>\n",
              "      <th>Czy jest Frauderem  [0 - Nie / 1 - Tak]</th>\n",
              "    </tr>\n",
              "  </thead>\n",
              "  <tbody>\n",
              "    <tr>\n",
              "      <th>0</th>\n",
              "      <td>0</td>\n",
              "      <td>98</td>\n",
              "      <td>85</td>\n",
              "      <td>2042</td>\n",
              "      <td>27247</td>\n",
              "      <td>15421</td>\n",
              "      <td>0</td>\n",
              "      <td>3</td>\n",
              "      <td>35</td>\n",
              "      <td>53</td>\n",
              "      <td>1</td>\n",
              "      <td>0</td>\n",
              "    </tr>\n",
              "    <tr>\n",
              "      <th>1</th>\n",
              "      <td>1</td>\n",
              "      <td>70</td>\n",
              "      <td>51</td>\n",
              "      <td>10121</td>\n",
              "      <td>16018</td>\n",
              "      <td>15220</td>\n",
              "      <td>1</td>\n",
              "      <td>3</td>\n",
              "      <td>29</td>\n",
              "      <td>23</td>\n",
              "      <td>0</td>\n",
              "      <td>1</td>\n",
              "    </tr>\n",
              "    <tr>\n",
              "      <th>2</th>\n",
              "      <td>0</td>\n",
              "      <td>47</td>\n",
              "      <td>64</td>\n",
              "      <td>21740</td>\n",
              "      <td>7413</td>\n",
              "      <td>8596</td>\n",
              "      <td>0</td>\n",
              "      <td>1</td>\n",
              "      <td>10</td>\n",
              "      <td>58</td>\n",
              "      <td>0</td>\n",
              "      <td>0</td>\n",
              "    </tr>\n",
              "    <tr>\n",
              "      <th>3</th>\n",
              "      <td>1</td>\n",
              "      <td>50</td>\n",
              "      <td>22</td>\n",
              "      <td>25457</td>\n",
              "      <td>6007</td>\n",
              "      <td>4686</td>\n",
              "      <td>1</td>\n",
              "      <td>3</td>\n",
              "      <td>29</td>\n",
              "      <td>92</td>\n",
              "      <td>0</td>\n",
              "      <td>0</td>\n",
              "    </tr>\n",
              "    <tr>\n",
              "      <th>4</th>\n",
              "      <td>1</td>\n",
              "      <td>88</td>\n",
              "      <td>47</td>\n",
              "      <td>21525</td>\n",
              "      <td>1893</td>\n",
              "      <td>20186</td>\n",
              "      <td>0</td>\n",
              "      <td>3</td>\n",
              "      <td>18</td>\n",
              "      <td>3</td>\n",
              "      <td>0</td>\n",
              "      <td>0</td>\n",
              "    </tr>\n",
              "  </tbody>\n",
              "</table>\n",
              "</div>"
            ],
            "text/plain": [
              "   plec [0 - kobieta, 1 - mezczyzna]  ...  Czy jest Frauderem  [0 - Nie / 1 - Tak]\n",
              "0                                  0  ...                                        0\n",
              "1                                  1  ...                                        1\n",
              "2                                  0  ...                                        0\n",
              "3                                  1  ...                                        0\n",
              "4                                  1  ...                                        0\n",
              "\n",
              "[5 rows x 12 columns]"
            ]
          },
          "metadata": {
            "tags": []
          },
          "execution_count": 69
        }
      ]
    },
    {
      "cell_type": "markdown",
      "metadata": {
        "id": "Ho7Ln9tro0X0"
      },
      "source": [
        "Dodaje kolumne z przykladowym ID od 1 do 5 dla "
      ]
    },
    {
      "cell_type": "code",
      "metadata": {
        "id": "RCh2L4R1peYT"
      },
      "source": [
        "ids = [1,2,3,4,5]"
      ],
      "execution_count": 70,
      "outputs": []
    },
    {
      "cell_type": "code",
      "metadata": {
        "id": "haoNPjqPqMiJ"
      },
      "source": [
        "data2['Clients ID'] = ids"
      ],
      "execution_count": 71,
      "outputs": []
    },
    {
      "cell_type": "code",
      "metadata": {
        "id": "n079EzIZsxOF"
      },
      "source": [
        "def Profile(cols):\n",
        "  Fraud = False\n",
        "\n",
        "  wiek = cols[1]\n",
        "  kraj = cols[2]\n",
        "  dochod = cols[3]\n",
        "  wyksztalcenie = cols[7]\n",
        "  doswiadczenie = cols[8]\n",
        "  zawod = cols[9]\n",
        "  wplywyWiekszeOdDochodu = cols[10]\n",
        "\n",
        " #Zawód na ptorzeby projektu - 53 oraz 23 oznaczają rachunkowość, sprzedaż i primary operations\n",
        " # Na potrzeby projektu przez pochodzenie rozumiemy kraj, w którym dana osoba prowadzi działalność finansową. 85 i 51 to kraje wysokiego ryzyka jak np. Liban, Chiny, Iran\n",
        "\n",
        "  if wiek >= 36 and wiek < 55and doswiadczenie >= 6 and zawod == 53 or zawod == 23 and wyksztalcenie > 2 and dochod >= 10000 and kraj == 85 or kraj == 22:\n",
        "      Fraud = True\n",
        "\n",
        "  return Fraud"
      ],
      "execution_count": 72,
      "outputs": []
    },
    {
      "cell_type": "code",
      "metadata": {
        "id": "xy30Z2Kb5sVt"
      },
      "source": [
        "data2['FraudDetectionProfile'] = False"
      ],
      "execution_count": null,
      "outputs": []
    },
    {
      "cell_type": "code",
      "metadata": {
        "id": "iaoz2l8N6MkN"
      },
      "source": [
        "data2[['plec [0 - kobieta, 1 - mezczyzna]','wiek','pochodzenie','dochód miesieczny','miesieczne wplywy na konto','miesieczne wydatki z konta','czy posiada kredyt [0 - Nie / 1 - Tak]','Wyksztalcenie [0 - brak, 1 - podstawowe, 2 - srednie, 3 - wyzsze]','Doswiadczenie latach','Zawod','Czy wypływy wieksze od dochodu']]"
      ],
      "execution_count": null,
      "outputs": []
    },
    {
      "cell_type": "code",
      "metadata": {
        "id": "sd8MIFWbw6-P"
      },
      "source": [
        "data2['FraudDetectionProfiler'] = data2[['plec [0 - kobieta, 1 - mezczyzna]','wiek','pochodzenie','dochód miesieczny','miesieczne wplywy na konto','miesieczne wydatki z konta','czy posiada kredyt [0 - Nie / 1 - Tak]','Wyksztalcenie [0 - brak, 1 - podstawowe, 2 - srednie, 3 - wyzsze]','Doswiadczenie latach','Zawod','Czy wypływy wieksze od dochodu']].apply(Profile) "
      ],
      "execution_count": null,
      "outputs": []
    },
    {
      "cell_type": "markdown",
      "metadata": {
        "id": "DK_YJJmwwaNG"
      },
      "source": [
        "# Regresja logistyczna"
      ]
    },
    {
      "cell_type": "code",
      "metadata": {
        "id": "8I-dSw9b7Kqw"
      },
      "source": [
        "import pandas as pd\n",
        "\n",
        "data3 = pd.read_excel('dane_do_nauki.xlsx')"
      ],
      "execution_count": 73,
      "outputs": []
    },
    {
      "cell_type": "code",
      "metadata": {
        "id": "KhO8dqIMpRQI"
      },
      "source": [
        "data3.rename(columns = {'Czy potencjalny Frauder [ 0 - nie , 1 - tak' : 'Czy wypływy wieksze od dochodu'}, inplace = True)"
      ],
      "execution_count": 74,
      "outputs": []
    },
    {
      "cell_type": "code",
      "metadata": {
        "id": "Pht6PsvZf8Af",
        "outputId": "eee230bf-a6ec-442d-b363-125cbaa76b61",
        "colab": {
          "base_uri": "https://localhost:8080/",
          "height": 487
        }
      },
      "source": [
        "data3"
      ],
      "execution_count": 75,
      "outputs": [
        {
          "output_type": "execute_result",
          "data": {
            "text/html": [
              "<div>\n",
              "<style scoped>\n",
              "    .dataframe tbody tr th:only-of-type {\n",
              "        vertical-align: middle;\n",
              "    }\n",
              "\n",
              "    .dataframe tbody tr th {\n",
              "        vertical-align: top;\n",
              "    }\n",
              "\n",
              "    .dataframe thead th {\n",
              "        text-align: right;\n",
              "    }\n",
              "</style>\n",
              "<table border=\"1\" class=\"dataframe\">\n",
              "  <thead>\n",
              "    <tr style=\"text-align: right;\">\n",
              "      <th></th>\n",
              "      <th>plec [0 - kobieta, 1 - mezczyzna]</th>\n",
              "      <th>wiek</th>\n",
              "      <th>pochodzenie</th>\n",
              "      <th>dochód miesieczny</th>\n",
              "      <th>miesieczne wplywy na konto</th>\n",
              "      <th>miesieczne wydatki z konta</th>\n",
              "      <th>czy posiada kredyt [0 - Nie / 1 - Tak]</th>\n",
              "      <th>Wyksztalcenie [0 - brak, 1 - podstawowe, 2 - srednie, 3 - wyzsze]</th>\n",
              "      <th>Doswiadczenie latach</th>\n",
              "      <th>Zawod</th>\n",
              "      <th>Czy wypływy wieksze od dochodu</th>\n",
              "      <th>Czy jest Frauderem  [0 - Nie / 1 - Tak]</th>\n",
              "    </tr>\n",
              "  </thead>\n",
              "  <tbody>\n",
              "    <tr>\n",
              "      <th>0</th>\n",
              "      <td>0</td>\n",
              "      <td>98</td>\n",
              "      <td>85</td>\n",
              "      <td>2042</td>\n",
              "      <td>27247</td>\n",
              "      <td>15421</td>\n",
              "      <td>0</td>\n",
              "      <td>3</td>\n",
              "      <td>35</td>\n",
              "      <td>53</td>\n",
              "      <td>1</td>\n",
              "      <td>0</td>\n",
              "    </tr>\n",
              "    <tr>\n",
              "      <th>1</th>\n",
              "      <td>1</td>\n",
              "      <td>70</td>\n",
              "      <td>51</td>\n",
              "      <td>10121</td>\n",
              "      <td>16018</td>\n",
              "      <td>15220</td>\n",
              "      <td>1</td>\n",
              "      <td>3</td>\n",
              "      <td>29</td>\n",
              "      <td>23</td>\n",
              "      <td>0</td>\n",
              "      <td>1</td>\n",
              "    </tr>\n",
              "    <tr>\n",
              "      <th>2</th>\n",
              "      <td>0</td>\n",
              "      <td>47</td>\n",
              "      <td>64</td>\n",
              "      <td>21740</td>\n",
              "      <td>7413</td>\n",
              "      <td>8596</td>\n",
              "      <td>0</td>\n",
              "      <td>1</td>\n",
              "      <td>10</td>\n",
              "      <td>58</td>\n",
              "      <td>0</td>\n",
              "      <td>0</td>\n",
              "    </tr>\n",
              "    <tr>\n",
              "      <th>3</th>\n",
              "      <td>1</td>\n",
              "      <td>50</td>\n",
              "      <td>22</td>\n",
              "      <td>25457</td>\n",
              "      <td>6007</td>\n",
              "      <td>4686</td>\n",
              "      <td>1</td>\n",
              "      <td>3</td>\n",
              "      <td>29</td>\n",
              "      <td>92</td>\n",
              "      <td>0</td>\n",
              "      <td>0</td>\n",
              "    </tr>\n",
              "    <tr>\n",
              "      <th>4</th>\n",
              "      <td>1</td>\n",
              "      <td>88</td>\n",
              "      <td>47</td>\n",
              "      <td>21525</td>\n",
              "      <td>1893</td>\n",
              "      <td>20186</td>\n",
              "      <td>0</td>\n",
              "      <td>3</td>\n",
              "      <td>18</td>\n",
              "      <td>3</td>\n",
              "      <td>0</td>\n",
              "      <td>0</td>\n",
              "    </tr>\n",
              "    <tr>\n",
              "      <th>...</th>\n",
              "      <td>...</td>\n",
              "      <td>...</td>\n",
              "      <td>...</td>\n",
              "      <td>...</td>\n",
              "      <td>...</td>\n",
              "      <td>...</td>\n",
              "      <td>...</td>\n",
              "      <td>...</td>\n",
              "      <td>...</td>\n",
              "      <td>...</td>\n",
              "      <td>...</td>\n",
              "      <td>...</td>\n",
              "    </tr>\n",
              "    <tr>\n",
              "      <th>2995</th>\n",
              "      <td>0</td>\n",
              "      <td>77</td>\n",
              "      <td>9</td>\n",
              "      <td>4026</td>\n",
              "      <td>16181</td>\n",
              "      <td>28062</td>\n",
              "      <td>1</td>\n",
              "      <td>0</td>\n",
              "      <td>8</td>\n",
              "      <td>57</td>\n",
              "      <td>1</td>\n",
              "      <td>0</td>\n",
              "    </tr>\n",
              "    <tr>\n",
              "      <th>2996</th>\n",
              "      <td>1</td>\n",
              "      <td>41</td>\n",
              "      <td>99</td>\n",
              "      <td>8032</td>\n",
              "      <td>14710</td>\n",
              "      <td>3780</td>\n",
              "      <td>0</td>\n",
              "      <td>0</td>\n",
              "      <td>9</td>\n",
              "      <td>86</td>\n",
              "      <td>0</td>\n",
              "      <td>1</td>\n",
              "    </tr>\n",
              "    <tr>\n",
              "      <th>2997</th>\n",
              "      <td>1</td>\n",
              "      <td>57</td>\n",
              "      <td>0</td>\n",
              "      <td>11765</td>\n",
              "      <td>5373</td>\n",
              "      <td>23872</td>\n",
              "      <td>1</td>\n",
              "      <td>2</td>\n",
              "      <td>38</td>\n",
              "      <td>11</td>\n",
              "      <td>1</td>\n",
              "      <td>1</td>\n",
              "    </tr>\n",
              "    <tr>\n",
              "      <th>2998</th>\n",
              "      <td>1</td>\n",
              "      <td>52</td>\n",
              "      <td>85</td>\n",
              "      <td>12722</td>\n",
              "      <td>21526</td>\n",
              "      <td>10964</td>\n",
              "      <td>1</td>\n",
              "      <td>2</td>\n",
              "      <td>26</td>\n",
              "      <td>20</td>\n",
              "      <td>0</td>\n",
              "      <td>1</td>\n",
              "    </tr>\n",
              "    <tr>\n",
              "      <th>2999</th>\n",
              "      <td>1</td>\n",
              "      <td>23</td>\n",
              "      <td>27</td>\n",
              "      <td>6252</td>\n",
              "      <td>16347</td>\n",
              "      <td>25081</td>\n",
              "      <td>0</td>\n",
              "      <td>2</td>\n",
              "      <td>1</td>\n",
              "      <td>10</td>\n",
              "      <td>1</td>\n",
              "      <td>1</td>\n",
              "    </tr>\n",
              "  </tbody>\n",
              "</table>\n",
              "<p>3000 rows × 12 columns</p>\n",
              "</div>"
            ],
            "text/plain": [
              "      plec [0 - kobieta, 1 - mezczyzna]  ...  Czy jest Frauderem  [0 - Nie / 1 - Tak]\n",
              "0                                     0  ...                                        0\n",
              "1                                     1  ...                                        1\n",
              "2                                     0  ...                                        0\n",
              "3                                     1  ...                                        0\n",
              "4                                     1  ...                                        0\n",
              "...                                 ...  ...                                      ...\n",
              "2995                                  0  ...                                        0\n",
              "2996                                  1  ...                                        1\n",
              "2997                                  1  ...                                        1\n",
              "2998                                  1  ...                                        1\n",
              "2999                                  1  ...                                        1\n",
              "\n",
              "[3000 rows x 12 columns]"
            ]
          },
          "metadata": {
            "tags": []
          },
          "execution_count": 75
        }
      ]
    },
    {
      "cell_type": "markdown",
      "metadata": {
        "id": "0Y7xbsiayZiQ"
      },
      "source": [
        "##Training"
      ]
    },
    {
      "cell_type": "code",
      "metadata": {
        "id": "SjSfU2-bei__"
      },
      "source": [
        "from sklearn.model_selection import train_test_split\n",
        "\n",
        "X_train, X_test, y_train, y_test = train_test_split(data3.iloc[:,:-1], data3.iloc[:,-1], test_size = 0.2)"
      ],
      "execution_count": 76,
      "outputs": []
    },
    {
      "cell_type": "code",
      "metadata": {
        "id": "-gyC-GIyeHwG",
        "outputId": "e88f49be-d320-4593-ed96-0faf31fca576",
        "colab": {
          "base_uri": "https://localhost:8080/",
          "height": 102
        }
      },
      "source": [
        "from sklearn.linear_model import LogisticRegression\n",
        "lr = LogisticRegression()\n",
        "lr.fit(X_train,y_train)"
      ],
      "execution_count": 77,
      "outputs": [
        {
          "output_type": "execute_result",
          "data": {
            "text/plain": [
              "LogisticRegression(C=1.0, class_weight=None, dual=False, fit_intercept=True,\n",
              "                   intercept_scaling=1, l1_ratio=None, max_iter=100,\n",
              "                   multi_class='auto', n_jobs=None, penalty='l2',\n",
              "                   random_state=None, solver='lbfgs', tol=0.0001, verbose=0,\n",
              "                   warm_start=False)"
            ]
          },
          "metadata": {
            "tags": []
          },
          "execution_count": 77
        }
      ]
    },
    {
      "cell_type": "code",
      "metadata": {
        "id": "4E42tiR8eATf"
      },
      "source": [
        "predictions = lr.predict(X_test)"
      ],
      "execution_count": 78,
      "outputs": []
    },
    {
      "cell_type": "markdown",
      "metadata": {
        "id": "9YtWs375yWJE"
      },
      "source": [
        "###Classification report"
      ]
    },
    {
      "cell_type": "code",
      "metadata": {
        "id": "ww9KplmdyVve",
        "outputId": "0af8dcba-f39f-4f22-a489-7ca822fc4ba7",
        "colab": {
          "base_uri": "https://localhost:8080/",
          "height": 170
        }
      },
      "source": [
        "from sklearn.metrics import classification_report\n",
        "print(classification_report(y_test, predictions))"
      ],
      "execution_count": 79,
      "outputs": [
        {
          "output_type": "stream",
          "text": [
            "              precision    recall  f1-score   support\n",
            "\n",
            "           0       0.52      0.65      0.58       303\n",
            "           1       0.52      0.39      0.45       297\n",
            "\n",
            "    accuracy                           0.52       600\n",
            "   macro avg       0.52      0.52      0.51       600\n",
            "weighted avg       0.52      0.52      0.51       600\n",
            "\n"
          ],
          "name": "stdout"
        }
      ]
    },
    {
      "cell_type": "markdown",
      "metadata": {
        "id": "5nfd4fSCyhPp"
      },
      "source": [
        "###Confusion Matrix"
      ]
    },
    {
      "cell_type": "code",
      "metadata": {
        "id": "x2FG4rtpyjQ_",
        "outputId": "e79f67f5-f062-47a3-a89d-59c21d35187c",
        "colab": {
          "base_uri": "https://localhost:8080/",
          "height": 51
        }
      },
      "source": [
        "from sklearn.metrics import confusion_matrix\n",
        "cm = confusion_matrix(y_test,predictions)\n",
        "cm"
      ],
      "execution_count": 80,
      "outputs": [
        {
          "output_type": "execute_result",
          "data": {
            "text/plain": [
              "array([[196, 107],\n",
              "       [181, 116]])"
            ]
          },
          "metadata": {
            "tags": []
          },
          "execution_count": 80
        }
      ]
    },
    {
      "cell_type": "markdown",
      "metadata": {
        "id": "-7jljjTL4j61"
      },
      "source": [
        "# 3-level verification"
      ]
    },
    {
      "cell_type": "code",
      "metadata": {
        "id": "PKGZnEwSTEG6"
      },
      "source": [
        "Benford = False\n",
        "Profile = False\n",
        "Model = False"
      ],
      "execution_count": 115,
      "outputs": []
    },
    {
      "cell_type": "code",
      "metadata": {
        "id": "HA2lXwYv4yhg"
      },
      "source": [
        "control = [Benford, Profile, Model]"
      ],
      "execution_count": 17,
      "outputs": []
    },
    {
      "cell_type": "code",
      "metadata": {
        "id": "HEIg0K0iENun",
        "outputId": "97a32b0d-4cd1-4dd2-e001-c2c7634b0a88",
        "colab": {
          "base_uri": "https://localhost:8080/",
          "height": 34
        }
      },
      "source": [
        "control"
      ],
      "execution_count": 18,
      "outputs": [
        {
          "output_type": "execute_result",
          "data": {
            "text/plain": [
              "[False, False, False]"
            ]
          },
          "metadata": {
            "tags": []
          },
          "execution_count": 18
        }
      ]
    },
    {
      "cell_type": "markdown",
      "metadata": {
        "id": "kNJEnx3UER7l"
      },
      "source": [
        "##Benford"
      ]
    },
    {
      "cell_type": "markdown",
      "metadata": {
        "id": "U8GidsIvEyrv"
      },
      "source": [
        "Importing test data"
      ]
    },
    {
      "cell_type": "code",
      "metadata": {
        "id": "22uicFb1Ew7Z",
        "outputId": "8c00b595-7634-4d37-badd-c9d7ebe4e3e2",
        "colab": {
          "base_uri": "https://localhost:8080/",
          "height": 272
        }
      },
      "source": [
        "testData = pd.read_excel('dane_do_nauki2.xlsx')\n",
        "testData.head()"
      ],
      "execution_count": 22,
      "outputs": [
        {
          "output_type": "execute_result",
          "data": {
            "text/html": [
              "<div>\n",
              "<style scoped>\n",
              "    .dataframe tbody tr th:only-of-type {\n",
              "        vertical-align: middle;\n",
              "    }\n",
              "\n",
              "    .dataframe tbody tr th {\n",
              "        vertical-align: top;\n",
              "    }\n",
              "\n",
              "    .dataframe thead th {\n",
              "        text-align: right;\n",
              "    }\n",
              "</style>\n",
              "<table border=\"1\" class=\"dataframe\">\n",
              "  <thead>\n",
              "    <tr style=\"text-align: right;\">\n",
              "      <th></th>\n",
              "      <th>plec [0 - kobieta, 1 - mezczyzna]</th>\n",
              "      <th>wiek</th>\n",
              "      <th>pochodzenie</th>\n",
              "      <th>dochód miesieczny</th>\n",
              "      <th>miesieczne wplywy na konto</th>\n",
              "      <th>miesieczne wydatki z konta</th>\n",
              "      <th>czy posiada kredyt [0 - Nie / 1 - Tak]</th>\n",
              "      <th>Wyksztalcenie [0 - brak, 1 - podstawowe, 2 - srednie, 3 - wyzsze]</th>\n",
              "      <th>Doswiadczenie latach</th>\n",
              "      <th>Zawod</th>\n",
              "      <th>Czy wypływy wieksze od dochodu</th>\n",
              "    </tr>\n",
              "  </thead>\n",
              "  <tbody>\n",
              "    <tr>\n",
              "      <th>0</th>\n",
              "      <td>1</td>\n",
              "      <td>41</td>\n",
              "      <td>45</td>\n",
              "      <td>4318</td>\n",
              "      <td>9649</td>\n",
              "      <td>20892</td>\n",
              "      <td>1</td>\n",
              "      <td>1</td>\n",
              "      <td>20</td>\n",
              "      <td>77</td>\n",
              "      <td>1</td>\n",
              "    </tr>\n",
              "    <tr>\n",
              "      <th>1</th>\n",
              "      <td>0</td>\n",
              "      <td>79</td>\n",
              "      <td>27</td>\n",
              "      <td>29832</td>\n",
              "      <td>24411</td>\n",
              "      <td>6187</td>\n",
              "      <td>1</td>\n",
              "      <td>3</td>\n",
              "      <td>37</td>\n",
              "      <td>41</td>\n",
              "      <td>0</td>\n",
              "    </tr>\n",
              "    <tr>\n",
              "      <th>2</th>\n",
              "      <td>0</td>\n",
              "      <td>67</td>\n",
              "      <td>42</td>\n",
              "      <td>19025</td>\n",
              "      <td>8307</td>\n",
              "      <td>26535</td>\n",
              "      <td>0</td>\n",
              "      <td>0</td>\n",
              "      <td>23</td>\n",
              "      <td>70</td>\n",
              "      <td>0</td>\n",
              "    </tr>\n",
              "    <tr>\n",
              "      <th>3</th>\n",
              "      <td>0</td>\n",
              "      <td>75</td>\n",
              "      <td>3</td>\n",
              "      <td>24314</td>\n",
              "      <td>12779</td>\n",
              "      <td>8465</td>\n",
              "      <td>0</td>\n",
              "      <td>1</td>\n",
              "      <td>30</td>\n",
              "      <td>32</td>\n",
              "      <td>0</td>\n",
              "    </tr>\n",
              "    <tr>\n",
              "      <th>4</th>\n",
              "      <td>0</td>\n",
              "      <td>80</td>\n",
              "      <td>47</td>\n",
              "      <td>2297</td>\n",
              "      <td>1689</td>\n",
              "      <td>27597</td>\n",
              "      <td>1</td>\n",
              "      <td>3</td>\n",
              "      <td>53</td>\n",
              "      <td>17</td>\n",
              "      <td>1</td>\n",
              "    </tr>\n",
              "  </tbody>\n",
              "</table>\n",
              "</div>"
            ],
            "text/plain": [
              "   plec [0 - kobieta, 1 - mezczyzna]  ...  Czy wypływy wieksze od dochodu\n",
              "0                                  1  ...                               1\n",
              "1                                  0  ...                               0\n",
              "2                                  0  ...                               0\n",
              "3                                  0  ...                               0\n",
              "4                                  0  ...                               1\n",
              "\n",
              "[5 rows x 11 columns]"
            ]
          },
          "metadata": {
            "tags": []
          },
          "execution_count": 22
        }
      ]
    },
    {
      "cell_type": "markdown",
      "metadata": {
        "id": "6nJa9nJvFaRg"
      },
      "source": [
        "Na potrzeby projektu dodaje do 5 osob id od 1 do 5"
      ]
    },
    {
      "cell_type": "code",
      "metadata": {
        "id": "URhEG5bLFgV1"
      },
      "source": [
        "testData['ID'] = 0"
      ],
      "execution_count": 24,
      "outputs": []
    },
    {
      "cell_type": "code",
      "metadata": {
        "id": "zVtxHAOmFtHX"
      },
      "source": [
        "testData['ID'].iloc[0] = 1\n",
        "testData['ID'].iloc[1] = 2\n",
        "testData['ID'].iloc[2] = 3\n",
        "testData['ID'].iloc[3] = 4\n",
        "testData['ID'].iloc[4] = 5"
      ],
      "execution_count": 27,
      "outputs": []
    },
    {
      "cell_type": "code",
      "metadata": {
        "id": "N8jOpW8gFyg9",
        "outputId": "3525dcc0-771f-437a-f08b-da1fd014fcdb",
        "colab": {
          "base_uri": "https://localhost:8080/",
          "height": 427
        }
      },
      "source": [
        "testData.head(10)"
      ],
      "execution_count": 29,
      "outputs": [
        {
          "output_type": "execute_result",
          "data": {
            "text/html": [
              "<div>\n",
              "<style scoped>\n",
              "    .dataframe tbody tr th:only-of-type {\n",
              "        vertical-align: middle;\n",
              "    }\n",
              "\n",
              "    .dataframe tbody tr th {\n",
              "        vertical-align: top;\n",
              "    }\n",
              "\n",
              "    .dataframe thead th {\n",
              "        text-align: right;\n",
              "    }\n",
              "</style>\n",
              "<table border=\"1\" class=\"dataframe\">\n",
              "  <thead>\n",
              "    <tr style=\"text-align: right;\">\n",
              "      <th></th>\n",
              "      <th>plec [0 - kobieta, 1 - mezczyzna]</th>\n",
              "      <th>wiek</th>\n",
              "      <th>pochodzenie</th>\n",
              "      <th>dochód miesieczny</th>\n",
              "      <th>miesieczne wplywy na konto</th>\n",
              "      <th>miesieczne wydatki z konta</th>\n",
              "      <th>czy posiada kredyt [0 - Nie / 1 - Tak]</th>\n",
              "      <th>Wyksztalcenie [0 - brak, 1 - podstawowe, 2 - srednie, 3 - wyzsze]</th>\n",
              "      <th>Doswiadczenie latach</th>\n",
              "      <th>Zawod</th>\n",
              "      <th>Czy wypływy wieksze od dochodu</th>\n",
              "      <th>ID</th>\n",
              "    </tr>\n",
              "  </thead>\n",
              "  <tbody>\n",
              "    <tr>\n",
              "      <th>0</th>\n",
              "      <td>1</td>\n",
              "      <td>41</td>\n",
              "      <td>45</td>\n",
              "      <td>4318</td>\n",
              "      <td>9649</td>\n",
              "      <td>20892</td>\n",
              "      <td>1</td>\n",
              "      <td>1</td>\n",
              "      <td>20</td>\n",
              "      <td>77</td>\n",
              "      <td>1</td>\n",
              "      <td>1</td>\n",
              "    </tr>\n",
              "    <tr>\n",
              "      <th>1</th>\n",
              "      <td>0</td>\n",
              "      <td>79</td>\n",
              "      <td>27</td>\n",
              "      <td>29832</td>\n",
              "      <td>24411</td>\n",
              "      <td>6187</td>\n",
              "      <td>1</td>\n",
              "      <td>3</td>\n",
              "      <td>37</td>\n",
              "      <td>41</td>\n",
              "      <td>0</td>\n",
              "      <td>2</td>\n",
              "    </tr>\n",
              "    <tr>\n",
              "      <th>2</th>\n",
              "      <td>0</td>\n",
              "      <td>67</td>\n",
              "      <td>42</td>\n",
              "      <td>19025</td>\n",
              "      <td>8307</td>\n",
              "      <td>26535</td>\n",
              "      <td>0</td>\n",
              "      <td>0</td>\n",
              "      <td>23</td>\n",
              "      <td>70</td>\n",
              "      <td>0</td>\n",
              "      <td>3</td>\n",
              "    </tr>\n",
              "    <tr>\n",
              "      <th>3</th>\n",
              "      <td>0</td>\n",
              "      <td>75</td>\n",
              "      <td>3</td>\n",
              "      <td>24314</td>\n",
              "      <td>12779</td>\n",
              "      <td>8465</td>\n",
              "      <td>0</td>\n",
              "      <td>1</td>\n",
              "      <td>30</td>\n",
              "      <td>32</td>\n",
              "      <td>0</td>\n",
              "      <td>4</td>\n",
              "    </tr>\n",
              "    <tr>\n",
              "      <th>4</th>\n",
              "      <td>0</td>\n",
              "      <td>80</td>\n",
              "      <td>47</td>\n",
              "      <td>2297</td>\n",
              "      <td>1689</td>\n",
              "      <td>27597</td>\n",
              "      <td>1</td>\n",
              "      <td>3</td>\n",
              "      <td>53</td>\n",
              "      <td>17</td>\n",
              "      <td>1</td>\n",
              "      <td>5</td>\n",
              "    </tr>\n",
              "    <tr>\n",
              "      <th>5</th>\n",
              "      <td>1</td>\n",
              "      <td>59</td>\n",
              "      <td>55</td>\n",
              "      <td>26709</td>\n",
              "      <td>12307</td>\n",
              "      <td>4889</td>\n",
              "      <td>1</td>\n",
              "      <td>0</td>\n",
              "      <td>1</td>\n",
              "      <td>85</td>\n",
              "      <td>0</td>\n",
              "      <td>0</td>\n",
              "    </tr>\n",
              "    <tr>\n",
              "      <th>6</th>\n",
              "      <td>0</td>\n",
              "      <td>22</td>\n",
              "      <td>99</td>\n",
              "      <td>22605</td>\n",
              "      <td>12800</td>\n",
              "      <td>27235</td>\n",
              "      <td>0</td>\n",
              "      <td>2</td>\n",
              "      <td>4</td>\n",
              "      <td>67</td>\n",
              "      <td>0</td>\n",
              "      <td>0</td>\n",
              "    </tr>\n",
              "    <tr>\n",
              "      <th>7</th>\n",
              "      <td>0</td>\n",
              "      <td>81</td>\n",
              "      <td>4</td>\n",
              "      <td>7125</td>\n",
              "      <td>15587</td>\n",
              "      <td>7558</td>\n",
              "      <td>0</td>\n",
              "      <td>1</td>\n",
              "      <td>22</td>\n",
              "      <td>67</td>\n",
              "      <td>0</td>\n",
              "      <td>0</td>\n",
              "    </tr>\n",
              "    <tr>\n",
              "      <th>8</th>\n",
              "      <td>1</td>\n",
              "      <td>38</td>\n",
              "      <td>11</td>\n",
              "      <td>7036</td>\n",
              "      <td>28768</td>\n",
              "      <td>10975</td>\n",
              "      <td>1</td>\n",
              "      <td>2</td>\n",
              "      <td>15</td>\n",
              "      <td>6</td>\n",
              "      <td>0</td>\n",
              "      <td>0</td>\n",
              "    </tr>\n",
              "    <tr>\n",
              "      <th>9</th>\n",
              "      <td>1</td>\n",
              "      <td>59</td>\n",
              "      <td>48</td>\n",
              "      <td>27816</td>\n",
              "      <td>10352</td>\n",
              "      <td>27634</td>\n",
              "      <td>0</td>\n",
              "      <td>1</td>\n",
              "      <td>2</td>\n",
              "      <td>8</td>\n",
              "      <td>0</td>\n",
              "      <td>0</td>\n",
              "    </tr>\n",
              "  </tbody>\n",
              "</table>\n",
              "</div>"
            ],
            "text/plain": [
              "   plec [0 - kobieta, 1 - mezczyzna]  wiek  ...  Czy wypływy wieksze od dochodu  ID\n",
              "0                                  1    41  ...                               1   1\n",
              "1                                  0    79  ...                               0   2\n",
              "2                                  0    67  ...                               0   3\n",
              "3                                  0    75  ...                               0   4\n",
              "4                                  0    80  ...                               1   5\n",
              "5                                  1    59  ...                               0   0\n",
              "6                                  0    22  ...                               0   0\n",
              "7                                  0    81  ...                               0   0\n",
              "8                                  1    38  ...                               0   0\n",
              "9                                  1    59  ...                               0   0\n",
              "\n",
              "[10 rows x 12 columns]"
            ]
          },
          "metadata": {
            "tags": []
          },
          "execution_count": 29
        }
      ]
    },
    {
      "cell_type": "code",
      "metadata": {
        "id": "xYCLu2w_ERar"
      },
      "source": [
        "id = input('Type in clients ID: ')\n",
        "\n",
        "numbers = data1[data1['ID_UMOWY'] == id]['KWOTA_OBCIAZENIA'].tolist()\n",
        "numbers = Benfrod(numbers)\n",
        "Benford = numbers.CheckBenfords"
      ],
      "execution_count": null,
      "outputs": []
    },
    {
      "cell_type": "markdown",
      "metadata": {
        "id": "PBTkwO2LHJgh"
      },
      "source": [
        "##Profiles"
      ]
    },
    {
      "cell_type": "code",
      "metadata": {
        "id": "eTbhe7OCHJCj"
      },
      "source": [
        "def Profile(id):\n",
        "  Fraud = False\n",
        "\n",
        "  if (int(testData[testData['ID'] == id]['wiek']) >= 36) and (int(testData[testData['ID'] == id]['wiek']) <= 55):\n",
        "     Fraud = True\n",
        "\n",
        "  return Fraud"
      ],
      "execution_count": 118,
      "outputs": []
    },
    {
      "cell_type": "code",
      "metadata": {
        "id": "HxFI6I5EI-b5",
        "outputId": "4d855a3b-c1c8-4f51-9f36-b907f8861f65",
        "colab": {
          "base_uri": "https://localhost:8080/",
          "height": 34
        }
      },
      "source": [
        "Profile = Profile(1)\n",
        "Profile"
      ],
      "execution_count": 119,
      "outputs": [
        {
          "output_type": "execute_result",
          "data": {
            "text/plain": [
              "True"
            ]
          },
          "metadata": {
            "tags": []
          },
          "execution_count": 119
        }
      ]
    },
    {
      "cell_type": "markdown",
      "metadata": {
        "id": "tB3mXVrjIgQu"
      },
      "source": [
        "#Model"
      ]
    },
    {
      "cell_type": "code",
      "metadata": {
        "id": "beg5gI-SKoWe",
        "outputId": "28ad15e6-07e5-4a1d-c073-b0e5da0c7a04",
        "colab": {
          "base_uri": "https://localhost:8080/",
          "height": 148
        }
      },
      "source": [
        "array = testData[testData['ID'] == 1]\n",
        "array = array.iloc[:,:-1]\n",
        "array"
      ],
      "execution_count": 120,
      "outputs": [
        {
          "output_type": "execute_result",
          "data": {
            "text/html": [
              "<div>\n",
              "<style scoped>\n",
              "    .dataframe tbody tr th:only-of-type {\n",
              "        vertical-align: middle;\n",
              "    }\n",
              "\n",
              "    .dataframe tbody tr th {\n",
              "        vertical-align: top;\n",
              "    }\n",
              "\n",
              "    .dataframe thead th {\n",
              "        text-align: right;\n",
              "    }\n",
              "</style>\n",
              "<table border=\"1\" class=\"dataframe\">\n",
              "  <thead>\n",
              "    <tr style=\"text-align: right;\">\n",
              "      <th></th>\n",
              "      <th>plec [0 - kobieta, 1 - mezczyzna]</th>\n",
              "      <th>wiek</th>\n",
              "      <th>pochodzenie</th>\n",
              "      <th>dochód miesieczny</th>\n",
              "      <th>miesieczne wplywy na konto</th>\n",
              "      <th>miesieczne wydatki z konta</th>\n",
              "      <th>czy posiada kredyt [0 - Nie / 1 - Tak]</th>\n",
              "      <th>Wyksztalcenie [0 - brak, 1 - podstawowe, 2 - srednie, 3 - wyzsze]</th>\n",
              "      <th>Doswiadczenie latach</th>\n",
              "      <th>Zawod</th>\n",
              "      <th>Czy wypływy wieksze od dochodu</th>\n",
              "    </tr>\n",
              "  </thead>\n",
              "  <tbody>\n",
              "    <tr>\n",
              "      <th>0</th>\n",
              "      <td>1</td>\n",
              "      <td>41</td>\n",
              "      <td>45</td>\n",
              "      <td>4318</td>\n",
              "      <td>9649</td>\n",
              "      <td>20892</td>\n",
              "      <td>1</td>\n",
              "      <td>1</td>\n",
              "      <td>20</td>\n",
              "      <td>77</td>\n",
              "      <td>1</td>\n",
              "    </tr>\n",
              "  </tbody>\n",
              "</table>\n",
              "</div>"
            ],
            "text/plain": [
              "   plec [0 - kobieta, 1 - mezczyzna]  ...  Czy wypływy wieksze od dochodu\n",
              "0                                  1  ...                               1\n",
              "\n",
              "[1 rows x 11 columns]"
            ]
          },
          "metadata": {
            "tags": []
          },
          "execution_count": 120
        }
      ]
    },
    {
      "cell_type": "code",
      "metadata": {
        "id": "lRS3gQ-yHvH7"
      },
      "source": [
        "Model = False\n",
        "\n",
        "if lr.predict(array)[0] == 1:\n",
        "  Model = True\n"
      ],
      "execution_count": 121,
      "outputs": []
    },
    {
      "cell_type": "code",
      "metadata": {
        "id": "lLbFMPvcLqqw",
        "outputId": "12ce492e-1801-4261-95a3-f0c0feea9f76",
        "colab": {
          "base_uri": "https://localhost:8080/",
          "height": 34
        }
      },
      "source": [
        "Model"
      ],
      "execution_count": 122,
      "outputs": [
        {
          "output_type": "execute_result",
          "data": {
            "text/plain": [
              "False"
            ]
          },
          "metadata": {
            "tags": []
          },
          "execution_count": 122
        }
      ]
    },
    {
      "cell_type": "markdown",
      "metadata": {
        "id": "yGWnE_UCSlVE"
      },
      "source": [
        "# Ewaluacja"
      ]
    },
    {
      "cell_type": "code",
      "metadata": {
        "id": "6HuGvKMSSlAA",
        "outputId": "2a102911-434c-405e-a83b-ab8a74aab94a",
        "colab": {
          "base_uri": "https://localhost:8080/",
          "height": 34
        }
      },
      "source": [
        "evaluation = [Benford,Profile,Model]\n",
        "\n",
        "evaluation"
      ],
      "execution_count": 123,
      "outputs": [
        {
          "output_type": "execute_result",
          "data": {
            "text/plain": [
              "[False, True, False]"
            ]
          },
          "metadata": {
            "tags": []
          },
          "execution_count": 123
        }
      ]
    },
    {
      "cell_type": "code",
      "metadata": {
        "id": "qlgs5xXxTOMB",
        "outputId": "e8207e42-23d6-42c7-e57b-faafc3151455",
        "colab": {
          "base_uri": "https://localhost:8080/",
          "height": 34
        }
      },
      "source": [
        "RiskRank = 0\n",
        "\n",
        "for i in evaluation:\n",
        "  if i == True:\n",
        "    RiskRank+=1\n",
        "  else:\n",
        "    RiskRank+=0\n",
        "\n",
        "RiskRank"
      ],
      "execution_count": 126,
      "outputs": [
        {
          "output_type": "execute_result",
          "data": {
            "text/plain": [
              "1"
            ]
          },
          "metadata": {
            "tags": []
          },
          "execution_count": 126
        }
      ]
    },
    {
      "cell_type": "code",
      "metadata": {
        "id": "-q9eP8KFTnaa",
        "outputId": "5800198b-916f-4918-c2f2-e901f0b7092c",
        "colab": {
          "base_uri": "https://localhost:8080/",
          "height": 34
        }
      },
      "source": [
        "if RiskRank == 0:\n",
        "  print('Klient nie wzbudza większych podejrzeń')\n",
        "elif RiskRank == 1:\n",
        "  print('Warto zwrócić uwagę na klienta, jednak jego zagrożenie nie jest duże')\n",
        "elif RidkRank == 2:\n",
        "  print('Klient jest podejrzany. Warto mieć tą osobę pod wzmożoną kontrolą')\n",
        "else:\n",
        "  print('Klient jest bardzo poderzany. Rekomendowana eskalacja klienta')"
      ],
      "execution_count": 127,
      "outputs": [
        {
          "output_type": "stream",
          "text": [
            "Warto zwrócić uwagę na klienta, jednak jego zagrożenie nie jest duże\n"
          ],
          "name": "stdout"
        }
      ]
    }
  ]
}